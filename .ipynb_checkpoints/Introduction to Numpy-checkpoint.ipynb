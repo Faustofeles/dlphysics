{
 "cells": [
  {
   "cell_type": "markdown",
   "metadata": {},
   "source": [
    "# Introduction to NumPy\n",
    "\n",
    "NumPy (Numerical Python) is a Python library for scientific computing for n-dimensional array computations. The library contains sophisicated functions for high-performance computing and easy integration to other programming languages such as C/C++ and Fortran. If you have the Anaconda package installed in  your computer, then you should have NumPy already. The convention for importing NumPy goes as follows:\n",
    "\n",
    "```python\n",
    "import numpy as np\n",
    "```\n",
    "\n",
    "A good cheat sheet for NumPy basics can be found [HERE!](https://s3.amazonaws.com/assets.datacamp.com/blog_assets/Numpy_Python_Cheat_Sheet.pdf). NumPy reference documentation can be found [HERE!](https://docs.scipy.org/doc/numpy-1.13.0/reference/). The following sections introduce the NumPy functions you must know.\n",
    "\n",
    "## Creating NumPy Arrays\n",
    "\n",
    "With NumPy, you can create n-dimensional arrays called Numpy arrays. We can initialize Numpy arrays using the array() function and passing lists or tuples as arguments (I personally prefer to use list notation): \n"
   ]
  },
  {
   "cell_type": "code",
   "execution_count": 1,
   "metadata": {
    "scrolled": true
   },
   "outputs": [
    {
     "name": "stdout",
     "output_type": "stream",
     "text": [
      "1d-array:\n",
      " [1 2 3] \n",
      "\n",
      "2d-array:\n",
      " [[1 2 3]\n",
      " [4 5 6]] \n",
      "\n",
      "3d-array:\n",
      " [[[ 1  2  3]\n",
      "  [ 4  5  6]]\n",
      "\n",
      " [[ 7  8  9]\n",
      "  [10 11 12]]] \n",
      "\n"
     ]
    }
   ],
   "source": [
    "import numpy as np\n",
    "a = np.array([1,2,3])   # 1d-array\n",
    "\n",
    "b = np.array([[1,2,3],  # 2d-array\n",
    "              [4,5,6]])\n",
    "\n",
    "c = np.array([[[1,2,3],[4,5,6]], # 3d-array\n",
    "              [[7,8,9], [10,11,12]]])\n",
    "\n",
    "print(\"1d-array:\\n\", a, \"\\n\")\n",
    "print(\"2d-array:\\n\", b, \"\\n\")\n",
    "print(\"3d-array:\\n\", c, \"\\n\")"
   ]
  },
  {
   "cell_type": "markdown",
   "metadata": {},
   "source": [
    "## Creating Placeholder Arrays\n",
    "\n",
    "Sometimes you do not know what the contents of an n-dim array will be, but you will want to create a NumPy array that is able to hold those values in the future. Or maybe you will want to create an n-dim array that will be used for some computation, e.g. an identity matrix or a matrix full of ones. Here are some NumPy functions to create these.  "
   ]
  },
  {
   "cell_type": "code",
   "execution_count": 2,
   "metadata": {},
   "outputs": [
    {
     "name": "stdout",
     "output_type": "stream",
     "text": [
      "Shape: (3, 3, 3)\n",
      "[[[0. 0. 0.]\n",
      "  [0. 0. 0.]\n",
      "  [0. 0. 0.]]\n",
      "\n",
      " [[0. 0. 0.]\n",
      "  [0. 0. 0.]\n",
      "  [0. 0. 0.]]\n",
      "\n",
      " [[0. 0. 0.]\n",
      "  [0. 0. 0.]\n",
      "  [0. 0. 0.]]]\n"
     ]
    }
   ],
   "source": [
    "## To create an array of zeros\n",
    "zeros = np.zeros((3,3,3))       # args: dimensions\n",
    "print(\"Shape:\", zeros.shape)\n",
    "print(zeros)"
   ]
  },
  {
   "cell_type": "code",
   "execution_count": 3,
   "metadata": {},
   "outputs": [
    {
     "name": "stdout",
     "output_type": "stream",
     "text": [
      "Shape: (3, 2)\n",
      "[[1. 1.]\n",
      " [1. 1.]\n",
      " [1. 1.]]\n"
     ]
    }
   ],
   "source": [
    "# To create an array of ones\n",
    "ones = np.ones((3,2))          # args: dimensions\n",
    "print(\"Shape:\", ones.shape)\n",
    "print(ones)"
   ]
  },
  {
   "cell_type": "code",
   "execution_count": 4,
   "metadata": {},
   "outputs": [
    {
     "name": "stdout",
     "output_type": "stream",
     "text": [
      "Shpae: (3, 3)\n",
      "[[1. 0. 0.]\n",
      " [0. 1. 0.]\n",
      " [0. 0. 1.]]\n"
     ]
    }
   ],
   "source": [
    "# creating an identity matrix\n",
    "i = np.eye(3,3)\n",
    "print(\"Shpae:\", i.shape)\n",
    "print(i)"
   ]
  },
  {
   "cell_type": "code",
   "execution_count": 5,
   "metadata": {},
   "outputs": [
    {
     "name": "stdout",
     "output_type": "stream",
     "text": [
      "Shape: (2, 3)\n",
      "[[7 7 7]\n",
      " [7 7 7]]\n"
     ]
    }
   ],
   "source": [
    "# create an array of filled with the same constant (constant array)\n",
    "c_arr = np.full((2,3), 7) # args: dimensions, constant\n",
    "print(\"Shape:\", c_arr.shape)\n",
    "print(c_arr)"
   ]
  },
  {
   "cell_type": "code",
   "execution_count": 6,
   "metadata": {},
   "outputs": [
    {
     "name": "stdout",
     "output_type": "stream",
     "text": [
      "Shape: (3, 3)\n",
      "[[0.71482023 0.00813743 0.88184308]\n",
      " [0.91979624 0.44551849 0.05127343]\n",
      " [0.11567891 0.30076669 0.95039098]]\n"
     ]
    }
   ],
   "source": [
    "# create an array of random decimal values from interval [0.0,1.0)\n",
    "rnd = np.random.random((3,3)) # args: shape\n",
    "print(\"Shape:\", rnd.shape)\n",
    "print(rnd)"
   ]
  },
  {
   "cell_type": "code",
   "execution_count": 7,
   "metadata": {},
   "outputs": [
    {
     "name": "stdout",
     "output_type": "stream",
     "text": [
      "Shape: (18,)\n",
      "[10 15 20 25 30 35 40 45 50 55 60 65 70 75 80 85 90 95]\n"
     ]
    }
   ],
   "source": [
    "# create an array of evenly-spaced values (step value!)\n",
    "by_steps = np.arange(10,100,5) # args: start, end, steps\n",
    "print(\"Shape:\", by_steps.shape)\n",
    "print(by_steps)"
   ]
  },
  {
   "cell_type": "code",
   "execution_count": 8,
   "metadata": {},
   "outputs": [
    {
     "name": "stdout",
     "output_type": "stream",
     "text": [
      "Shape: (100,)\n",
      "[ 0.          0.1010101   0.2020202   0.3030303   0.4040404   0.50505051\n",
      "  0.60606061  0.70707071  0.80808081  0.90909091  1.01010101  1.11111111\n",
      "  1.21212121  1.31313131  1.41414141  1.51515152  1.61616162  1.71717172\n",
      "  1.81818182  1.91919192  2.02020202  2.12121212  2.22222222  2.32323232\n",
      "  2.42424242  2.52525253  2.62626263  2.72727273  2.82828283  2.92929293\n",
      "  3.03030303  3.13131313  3.23232323  3.33333333  3.43434343  3.53535354\n",
      "  3.63636364  3.73737374  3.83838384  3.93939394  4.04040404  4.14141414\n",
      "  4.24242424  4.34343434  4.44444444  4.54545455  4.64646465  4.74747475\n",
      "  4.84848485  4.94949495  5.05050505  5.15151515  5.25252525  5.35353535\n",
      "  5.45454545  5.55555556  5.65656566  5.75757576  5.85858586  5.95959596\n",
      "  6.06060606  6.16161616  6.26262626  6.36363636  6.46464646  6.56565657\n",
      "  6.66666667  6.76767677  6.86868687  6.96969697  7.07070707  7.17171717\n",
      "  7.27272727  7.37373737  7.47474747  7.57575758  7.67676768  7.77777778\n",
      "  7.87878788  7.97979798  8.08080808  8.18181818  8.28282828  8.38383838\n",
      "  8.48484848  8.58585859  8.68686869  8.78787879  8.88888889  8.98989899\n",
      "  9.09090909  9.19191919  9.29292929  9.39393939  9.49494949  9.5959596\n",
      "  9.6969697   9.7979798   9.8989899  10.        ]\n"
     ]
    }
   ],
   "source": [
    "# create array of evenly-spaced values (number of samples!)\n",
    "by_samples = np.linspace(0,10,100) # args: start, end, number of samples\n",
    "print(\"Shape:\", by_samples.shape)\n",
    "print(by_samples)"
   ]
  },
  {
   "cell_type": "markdown",
   "metadata": {},
   "source": [
    "Other important NumPy functions available for sampling random data, random permutations, and random distributions can be seen here: [Random sampling (numpy.random)](https://docs.scipy.org/doc/numpy-1.15.1/reference/routines.random.html)\n"
   ]
  },
  {
   "cell_type": "markdown",
   "metadata": {},
   "source": [
    "## Inspecting NumPy Arrays\n",
    "\n",
    "The next important thing you want to be able to do when working with NumPy arrays is to be able to inspect them. Primarily, we are interested in certain properties of n-dim arrays: \n",
    "\n",
    "* shape \n",
    "* length\n",
    "* dimensions\n",
    "* number of elements\n",
    "* data type of elements\n"
   ]
  },
  {
   "cell_type": "code",
   "execution_count": 9,
   "metadata": {},
   "outputs": [
    {
     "name": "stdout",
     "output_type": "stream",
     "text": [
      "Array:\n",
      " [[[ 1  2]\n",
      "  [ 3  4]\n",
      "  [ 5  6]]\n",
      "\n",
      " [[ 7  8]\n",
      "  [ 9 10]\n",
      "  [11 12]]]\n",
      "\n",
      "Shape: (2, 3, 2)\n",
      "Length: 2\n",
      "Dimensions: 3\n",
      "Size: 12\n",
      "Data type of array elems: int64\n",
      "New data type of array elems: int32\n"
     ]
    }
   ],
   "source": [
    "# create an array\n",
    "arr = np.array([[[1,2],[3,4],[5,6]],[[7,8],[9,10],[11,12]]])\n",
    "print(\"Array:\\n\", arr)\n",
    "print(\"\\nShape:\", arr.shape)                            # shape\n",
    "print(\"Length:\", len(arr))                              # length\n",
    "print(\"Dimensions:\", arr.ndim)                          # dimension\n",
    "print(\"Size:\", arr.size)                                # size\n",
    "print(\"Data type of array elems:\", arr.dtype)           # data type\n",
    "# Convert from int64 to int32\n",
    "arr = arr.astype(np.int32)                              # data type conversion\n",
    "print(\"New data type of array elems:\", arr.dtype)\n"
   ]
  },
  {
   "cell_type": "markdown",
   "metadata": {},
   "source": [
    "## Mathematics: working with NumPy Arrays\n",
    "\n",
    "We now get into the computational aspect of working with n-dimensional arrays. NumPy offers many easy to use functions for arithmetic and comparison operations. \n",
    "\n",
    "### Arithmatic Operations\n",
    "Let us initialize some NumPy arrays"
   ]
  },
  {
   "cell_type": "code",
   "execution_count": 10,
   "metadata": {
    "collapsed": true
   },
   "outputs": [],
   "source": [
    "a = np.array([[1,2,3],[4,5,6],[7,8,9]])\n",
    "b = np.array([[10,20,30],[40,50,60],[70,80,90]])"
   ]
  },
  {
   "cell_type": "markdown",
   "metadata": {},
   "source": [
    "We can do arithmetic operations with NumPy arrays the same way we would do it with integer or decimal scalars in standard Python syntax."
   ]
  },
  {
   "cell_type": "code",
   "execution_count": 11,
   "metadata": {},
   "outputs": [
    {
     "name": "stdout",
     "output_type": "stream",
     "text": [
      "[[11 22 33]\n",
      " [44 55 66]\n",
      " [77 88 99]] \n",
      "\n"
     ]
    }
   ],
   "source": [
    "# addition\n",
    "print(a + b, \"\\n\")"
   ]
  },
  {
   "cell_type": "code",
   "execution_count": 12,
   "metadata": {},
   "outputs": [
    {
     "name": "stdout",
     "output_type": "stream",
     "text": [
      "[[ 9 18 27]\n",
      " [36 45 54]\n",
      " [63 72 81]] \n",
      "\n"
     ]
    }
   ],
   "source": [
    "# subtraction\n",
    "print(b - a, \"\\n\")"
   ]
  },
  {
   "cell_type": "code",
   "execution_count": 13,
   "metadata": {},
   "outputs": [
    {
     "name": "stdout",
     "output_type": "stream",
     "text": [
      "[[ 10  40  90]\n",
      " [160 250 360]\n",
      " [490 640 810]] \n",
      "\n"
     ]
    }
   ],
   "source": [
    "# multiplication\n",
    "print(a * b, \"\\n\")"
   ]
  },
  {
   "cell_type": "code",
   "execution_count": 14,
   "metadata": {},
   "outputs": [
    {
     "name": "stdout",
     "output_type": "stream",
     "text": [
      "[[10. 10. 10.]\n",
      " [10. 10. 10.]\n",
      " [10. 10. 10.]] \n",
      "\n"
     ]
    }
   ],
   "source": [
    "# division\n",
    "print(b / a, \"\\n\")"
   ]
  },
  {
   "cell_type": "code",
   "execution_count": 15,
   "metadata": {},
   "outputs": [
    {
     "name": "stdout",
     "output_type": "stream",
     "text": [
      "[[ 1  4  9]\n",
      " [16 25 36]\n",
      " [49 64 81]] \n",
      "\n"
     ]
    }
   ],
   "source": [
    "# exponents\n",
    "print(a**2, \"\\n\")"
   ]
  },
  {
   "cell_type": "markdown",
   "metadata": {},
   "source": [
    "NumPy also has functions for these operations:\n",
    "* np.add(a,b)\n",
    "* np.subtract(b,a)\n",
    "* np.multiply(a,b)\n",
    "* np.division(b,a)\n",
    "\n",
    "Computationally, these functions perform the same as the operators (+,-,*,/) but are able to receive extra arguments. You can check the documentation [HERE](https://docs.scipy.org/doc/numpy-1.13.0/reference/routines.math.html)\n",
    "\n",
    "Other mathematical functions of interest:"
   ]
  },
  {
   "cell_type": "code",
   "execution_count": 16,
   "metadata": {},
   "outputs": [
    {
     "name": "stdout",
     "output_type": "stream",
     "text": [
      "exp\n",
      " [[2.71828183e+00 7.38905610e+00 2.00855369e+01]\n",
      " [5.45981500e+01 1.48413159e+02 4.03428793e+02]\n",
      " [1.09663316e+03 2.98095799e+03 8.10308393e+03]] \n",
      "\n",
      "sqrt\n",
      " [[1.         1.41421356 1.73205081]\n",
      " [2.         2.23606798 2.44948974]\n",
      " [2.64575131 2.82842712 3.        ]] \n",
      "\n",
      "sine\n",
      " [[ 0.84147098  0.90929743  0.14112001]\n",
      " [-0.7568025  -0.95892427 -0.2794155 ]\n",
      " [ 0.6569866   0.98935825  0.41211849]] \n",
      "\n",
      "natlog\n",
      " [[0.         0.69314718 1.09861229]\n",
      " [1.38629436 1.60943791 1.79175947]\n",
      " [1.94591015 2.07944154 2.19722458]] \n",
      "\n"
     ]
    }
   ],
   "source": [
    "print(\"exp\\n\",np.exp(a), \"\\n\")           # element-wise exponentiation\n",
    "print(\"sqrt\\n\",np.sqrt(a), \"\\n\")         # element-wise square root\n",
    "print(\"sine\\n\",np.sin(a), \"\\n\")          # element-wise sine (np.arcsin(), np.cos(), np.tan(), etc)\n",
    "print(\"natlog\\n\",np.log(a), \"\\n\")        # element-wise natural log"
   ]
  },
  {
   "cell_type": "code",
   "execution_count": 17,
   "metadata": {},
   "outputs": [
    {
     "name": "stdout",
     "output_type": "stream",
     "text": [
      "Inverse of A: \n",
      "  [[ 0.6 -0.7]\n",
      " [-0.2  0.4]] \n",
      "\n",
      "[[ 1.00000000e+00  0.00000000e+00]\n",
      " [-2.22044605e-16  1.00000000e+00]]\n"
     ]
    }
   ],
   "source": [
    "# some linear algebra functions: inverse, dot, and cross product\n",
    "\n",
    "A = np.array([[4,7],[2,6]])         # 2 by 2 matrix\n",
    "A_inv = np.linalg.inv(A)            # inverse matrix (system must be linearly independent)\n",
    "\n",
    "print(\"Inverse of A: \\n \", A_inv, \"\\n\")\n",
    "\n",
    "I = np.dot(A, A_inv)                # dot product. Rule for dot product: (n x m) * (m x n)\n",
    "print(I)\n"
   ]
  },
  {
   "cell_type": "code",
   "execution_count": 18,
   "metadata": {},
   "outputs": [
    {
     "name": "stdout",
     "output_type": "stream",
     "text": [
      "[[ 1.00000000e+00  0.00000000e+00]\n",
      " [-2.22044605e-16  1.00000000e+00]]\n"
     ]
    }
   ],
   "source": [
    "# for dot product of 2D or nD arrays, np.matmul() is typically preferred\n",
    "print(np.matmul(A, A_inv))"
   ]
  },
  {
   "cell_type": "code",
   "execution_count": 19,
   "metadata": {},
   "outputs": [
    {
     "name": "stdout",
     "output_type": "stream",
     "text": [
      "[-3  6 -3]\n"
     ]
    }
   ],
   "source": [
    "# cross product example\n",
    "x = [1,2,3]\n",
    "y = [4,5,6]\n",
    "print(np.cross(x,y))"
   ]
  },
  {
   "cell_type": "markdown",
   "metadata": {},
   "source": [
    "### Comparisons Operations\n",
    "\n",
    "Like in standard python, we can use the comparison operators (<,<=,<>,=>,>,==,!=) to do element-wise comparison between the elements of two n-dimensional arrays of the same dimensions. "
   ]
  },
  {
   "cell_type": "code",
   "execution_count": 20,
   "metadata": {},
   "outputs": [
    {
     "name": "stdout",
     "output_type": "stream",
     "text": [
      "a:\n",
      " [[1 2 3]\n",
      " [4 5 6]\n",
      " [7 8 9]]\n",
      "b:\n",
      " [[9 8 7]\n",
      " [6 5 4]\n",
      " [3 2 1]]\n"
     ]
    }
   ],
   "source": [
    "# create arrays\n",
    "a = np.array([[1,2,3],[4,5,6],[7,8,9]])\n",
    "b = np.array([[9,8,7],[6,5,4],[3,2,1]])\n",
    "\n",
    "print(\"a:\\n\", a)\n",
    "print(\"b:\\n\", b)"
   ]
  },
  {
   "cell_type": "code",
   "execution_count": 21,
   "metadata": {},
   "outputs": [
    {
     "name": "stdout",
     "output_type": "stream",
     "text": [
      "a == b: \n",
      " [[False False False]\n",
      " [False  True False]\n",
      " [False False False]] \n",
      "\n",
      "a == a.T: \n",
      " [[ True False False]\n",
      " [False  True False]\n",
      " [False False  True]] \n",
      "\n",
      "a < b: \n",
      " [[ True  True  True]\n",
      " [ True False False]\n",
      " [False False False]] \n",
      "\n"
     ]
    }
   ],
   "source": [
    "# element-wise comparison\n",
    "print(\"a == b: \\n\", a==b, \"\\n\")\n",
    "print(\"a == a.T: \\n\", a==a.T, \"\\n\")  # a.T is the transpose of a \n",
    "print(\"a < b: \\n\", a < b, \"\\n\")"
   ]
  },
  {
   "cell_type": "code",
   "execution_count": 22,
   "metadata": {},
   "outputs": [
    {
     "name": "stdout",
     "output_type": "stream",
     "text": [
      "Are 'a' and 'b' equal? ->  False\n",
      "Are 'a' and 'a' equal? ->  True\n"
     ]
    }
   ],
   "source": [
    "# array-wise comparison\n",
    "print(\"Are 'a' and 'b' equal? -> \", np.array_equal(a, b))\n",
    "print(\"Are 'a' and 'a' equal? -> \", np.array_equal(a, a))"
   ]
  },
  {
   "cell_type": "markdown",
   "metadata": {},
   "source": [
    "### Aggregate Functions\n",
    "\n",
    "An aggregate function is a function where the values of multiple rows or columns are grouped together to form a single \"summary\" value. It is very useful to use these kind of functions to explore datasets. Here are some common aggregate functions and there corresponding NumPy functions:\n",
    "\n",
    "* sum -> np.sum()\n",
    "* mean -> np.mean()\n",
    "* standard deviation -> np.std()\n",
    "* count -> np.count_nonzero()\n",
    "* maximum -> np.max()\n",
    "* minimum -> np.min()\n"
   ]
  },
  {
   "cell_type": "code",
   "execution_count": 23,
   "metadata": {},
   "outputs": [
    {
     "name": "stdout",
     "output_type": "stream",
     "text": [
      "[[1 2 3]\n",
      " [4 5 6]\n",
      " [7 8 9]]\n",
      "\n",
      "Sum of all: \n",
      " 45\n"
     ]
    }
   ],
   "source": [
    "# initialize a 2D array of integers\n",
    "data = np.array([[1,2,3],[4, 5, 6],[7, 8, 9]])\n",
    "print(data)\n",
    "# sum of all values in array\n",
    "print(\"\\nSum of all: \\n\", np.sum(data))"
   ]
  },
  {
   "cell_type": "markdown",
   "metadata": {},
   "source": [
    "Notice that by passing only the array as an argument the function outputs the result from iterating through all the elements in the array. However, you can also describe the dimension by which you want the aggregated function to operate (e.g. return the sum of each columns or of each rows). \n",
    "\n",
    "To allow this, each function can receive an \"axis\" argument that indicates which dimension you want the results to be grouped by. This axis value is an integer starting from zero to the number of dimensions of the array. \n",
    "\n",
    "In NumPy, the axis numbering is as follows for up to three dimensions:\n",
    "\n",
    "![image.png](img/numpy_axis_def.png)"
   ]
  },
  {
   "cell_type": "code",
   "execution_count": 24,
   "metadata": {},
   "outputs": [
    {
     "name": "stdout",
     "output_type": "stream",
     "text": [
      "sum by col: \n",
      " [12 15 18]\n",
      "sum by row: \n",
      " [ 6 15 24]\n"
     ]
    }
   ],
   "source": [
    "# sum by columns\n",
    "print(\"sum by col: \\n\", np.sum(data, axis=0))\n",
    "# sum by rowa\n",
    "print(\"sum by row: \\n\", np.sum(data, axis=1))"
   ]
  },
  {
   "cell_type": "markdown",
   "metadata": {},
   "source": [
    "The same \"axis\" argument can be passed to the other aggregate functions listed above"
   ]
  },
  {
   "cell_type": "markdown",
   "metadata": {},
   "source": [
    "## Subsetting, Slicing, and Indexing\n",
    "\n",
    "### Subsetting"
   ]
  },
  {
   "cell_type": "code",
   "execution_count": 25,
   "metadata": {},
   "outputs": [
    {
     "name": "stdout",
     "output_type": "stream",
     "text": [
      "1\n",
      "2\n",
      "3\n"
     ]
    }
   ],
   "source": [
    "# NOTE: Remember that indexing begins at zero and ends at n-1\n",
    "# 1D arrays\n",
    "a = np.array([1,2,3])\n",
    "print(a[0])\n",
    "print(a[1])\n",
    "print(a[2])"
   ]
  },
  {
   "cell_type": "code",
   "execution_count": 26,
   "metadata": {},
   "outputs": [
    {
     "name": "stdout",
     "output_type": "stream",
     "text": [
      "[[1 2 3]\n",
      " [4 5 6]]\n",
      "5\n",
      "6\n"
     ]
    }
   ],
   "source": [
    "# 2D arrays\n",
    "b = np.array([[1,2,3],[4,5,6]])\n",
    "print(b)\n",
    "print(b[1,1])\n",
    "print(b[1,2])"
   ]
  },
  {
   "cell_type": "markdown",
   "metadata": {},
   "source": [
    "### Slicing\n",
    "Slicing refers to subsetting more than one element from an n-dim array. Slicing NumPy arrays is the same as slicing standard lists objects. It can be a little confusing, though, since we deal with indexes that start at zero and half-closed intervals of the form `[start, finish)`. For example, if we state that we want the elements in a dimension with interval `[0:3]`, we are saying we want the elements in that interval from position `0` to `2` (3 minus 1). "
   ]
  },
  {
   "cell_type": "code",
   "execution_count": 27,
   "metadata": {},
   "outputs": [
    {
     "name": "stdout",
     "output_type": "stream",
     "text": [
      "[1 2 3]\n",
      "[1 2]\n"
     ]
    }
   ],
   "source": [
    "# 1D array\n",
    "print(a)\n",
    "print(a[0:2])"
   ]
  },
  {
   "cell_type": "code",
   "execution_count": 28,
   "metadata": {},
   "outputs": [
    {
     "name": "stdout",
     "output_type": "stream",
     "text": [
      "[[1 2 3]\n",
      " [4 5 6]] \n",
      "\n",
      "[[2 3]\n",
      " [5 6]] \n",
      "\n",
      "[[1 2 3]]\n"
     ]
    }
   ],
   "source": [
    "# 2D array\n",
    "print(b, \"\\n\")\n",
    "print(b[0:2,1:3], \"\\n\")\n",
    "print(b[:1])"
   ]
  },
  {
   "cell_type": "markdown",
   "metadata": {},
   "source": [
    "### Boolean Indexing\n",
    "\n",
    "You can also index all the elements from an array that satisfy a conditional statement"
   ]
  },
  {
   "cell_type": "code",
   "execution_count": 1,
   "metadata": {},
   "outputs": [
    {
     "ename": "NameError",
     "evalue": "name 'a' is not defined",
     "output_type": "error",
     "traceback": [
      "\u001b[0;31m---------------------------------------------------------------------------\u001b[0m",
      "\u001b[0;31mNameError\u001b[0m                                 Traceback (most recent call last)",
      "\u001b[0;32m<ipython-input-1-3606f046545a>\u001b[0m in \u001b[0;36m<module>\u001b[0;34m()\u001b[0m\n\u001b[1;32m      1\u001b[0m \u001b[0;31m# boolean indexing\u001b[0m\u001b[0;34m\u001b[0m\u001b[0;34m\u001b[0m\u001b[0m\n\u001b[0;32m----> 2\u001b[0;31m \u001b[0mprint\u001b[0m\u001b[0;34m(\u001b[0m\u001b[0ma\u001b[0m\u001b[0;34m[\u001b[0m\u001b[0ma\u001b[0m\u001b[0;34m<=\u001b[0m\u001b[0;36m3\u001b[0m\u001b[0;34m]\u001b[0m\u001b[0;34m)\u001b[0m\u001b[0;34m\u001b[0m\u001b[0m\n\u001b[0m",
      "\u001b[0;31mNameError\u001b[0m: name 'a' is not defined"
     ]
    }
   ],
   "source": [
    "# boolean indexing\n",
    "print(a[a<=3])"
   ]
  },
  {
   "cell_type": "markdown",
   "metadata": {},
   "source": [
    "# Important Linear Algebra "
   ]
  },
  {
   "cell_type": "markdown",
   "metadata": {},
   "source": [
    "## DON'T FORGET TO CHECK OUT THIS [NUMPY CHEAT SHEET](https://s3.amazonaws.com/assets.datacamp.com/blog_assets/Numpy_Python_Cheat_Sheet.pdf) (there is more content on array manipulation there)."
   ]
  }
 ],
 "metadata": {
  "kernelspec": {
   "display_name": "Python 3",
   "language": "python",
   "name": "python3"
  },
  "language_info": {
   "codemirror_mode": {
    "name": "ipython",
    "version": 3
   },
   "file_extension": ".py",
   "mimetype": "text/x-python",
   "name": "python",
   "nbconvert_exporter": "python",
   "pygments_lexer": "ipython3",
   "version": "3.6.3"
  }
 },
 "nbformat": 4,
 "nbformat_minor": 2
}
