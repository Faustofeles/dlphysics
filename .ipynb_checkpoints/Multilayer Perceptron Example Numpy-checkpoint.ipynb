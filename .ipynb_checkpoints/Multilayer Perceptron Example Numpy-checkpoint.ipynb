{
 "cells": [
  {
   "cell_type": "markdown",
   "metadata": {},
   "source": [
    "# Multilayer Perception Example Tutorial ###\n",
    "\n",
    "### Dependencies\n",
    "\n",
    "Might need to download Keras and tqdm libraries. You can get them using your Anaconda package manager by typing the following in your terminal (Anaconda prompt if you are in Windows):\n",
    "\n",
    "```shell\n",
    "conda install -c conda-forge keras\n",
    "```\n",
    "and \n",
    "```shell\n",
    "conda install -c conda-forge tqdm\n",
    "```\n",
    "\n",
    "Conda will collect the packages and solve the environment for you, select \"Yes\" to proceed and install.\n",
    "\n",
    "\n",
    "### Concepts that we'll discuss ##\n",
    "\n",
    "* MNIST Dataset [70K examples of 28 by 28 pixel images]\n",
    "* Normalization of Data\n",
    "* Mean Square Error (MSE) Cost Function\n",
    "* One Hot Encoding for Categorical Data\n",
    "* Dataset partitions: training, testing, and validation sets\n",
    "* Model: Dense Layer and ReLU Layer\n",
    "* Activations\n",
    "* Hyperparameters\n",
    "* Mini-batches and Stochastic Gradient Descent \n",
    "* Epochs\n",
    "* Accuracy and Loss Graphs\n",
    "* Confusion Matrices\n",
    "\n",
    "\n"
   ]
  },
  {
   "cell_type": "code",
   "execution_count": 1,
   "metadata": {},
   "outputs": [
    {
     "name": "stderr",
     "output_type": "stream",
     "text": [
      "Using TensorFlow backend.\n"
     ]
    }
   ],
   "source": [
    "from __future__ import print_function\n",
    "import keras                                ## Tool to download dataset\n",
    "import numpy as np                          ## For numerical python\n",
    "from tqdm import trange\t\t\t\t\t\t## Progress bar tool\n",
    "import matplotlib.pyplot as plt \t\t\t## Plotting library\n",
    "from IPython.display import clear_output\t## Interactive Spyder\t\n",
    "%matplotlib inline\n",
    "\n",
    "np.random.seed(42)\t\t\t\t\t\t\t## Random Seed: allows experiment replication\n"
   ]
  },
  {
   "cell_type": "markdown",
   "metadata": {},
   "source": [
    "We use Keras built in functions to download the MNIST dataset "
   ]
  },
  {
   "cell_type": "code",
   "execution_count": 2,
   "metadata": {
    "collapsed": true
   },
   "outputs": [],
   "source": [
    "#############################################\n",
    "#\t\t\t\tMNIST DATASET \t\t\t\t# \n",
    "#############################################\n",
    "\n",
    "'''\n",
    "\tFunction uses the Keras library to load the MNIST Dataset, a \n",
    "\tdataset of 70000 training examples of handwritten digits  \n",
    "\n",
    "\tReturns training set [50000 examples], validation set [10000 samples], \n",
    "\tand test sets [10000 samples]\n",
    "'''\n",
    "def load_dataset(flatten=False):\n",
    "    (X_train, y_train), (X_test, y_test) = keras.datasets.mnist.load_data()\n",
    "    \n",
    "    # Normalization of training data\n",
    "    X_train = X_train.astype(float) / 255.\n",
    "    X_test = X_test.astype(float) / 255.\n",
    "    \n",
    "    # We reserve the last 10000 training examples for validation\n",
    "    X_train, X_val = X_train[:-10000], X_train[-10000:]\n",
    "    y_train, y_val = y_train[:-10000], y_train[-10000:]\n",
    "    \n",
    "    if flatten:\n",
    "        X_train = X_train.reshape([X_train.shape[0], -1])\n",
    "        X_val = X_val.reshape([X_val.shape[0], -1])\n",
    "        X_test = X_test.reshape([X_test.shape[0], -1])\n",
    "    \n",
    "    return X_train, y_train, X_val, y_val, X_test, y_test"
   ]
  },
  {
   "cell_type": "markdown",
   "metadata": {},
   "source": [
    "The function above returns three set pairs: a training set, a testing set, and a validation set. \n",
    "\n",
    "**Training Set:** Used to adjust the weights on the neural network\n",
    "\n",
    "**Testing Set:** Used only for testing the final model after training has concluded. This is data not previously shown to the model.\n",
    "\n",
    "**Validation Set:** Use to verify that an increase in accuracy over the training data actually corresponds to an increase in the accuracy over data that has not been shown to the network. Helps deal with overfitting models. \n"
   ]
  },
  {
   "cell_type": "code",
   "execution_count": 3,
   "metadata": {},
   "outputs": [
    {
     "name": "stdout",
     "output_type": "stream",
     "text": [
      "(50000, 784) (50000,)\n",
      "(10000, 784) (10000,)\n",
      "(10000, 784) (10000,)\n"
     ]
    }
   ],
   "source": [
    "# load the dataset # \n",
    "X_train, y_train, X_val, y_val, X_test, y_test = load_dataset(flatten=True)\n",
    "\n",
    "print(X_train.shape, y_train.shape)\n",
    "print(X_val.shape, y_val.shape)\n",
    "print(X_test.shape, y_test.shape)"
   ]
  },
  {
   "cell_type": "code",
   "execution_count": 4,
   "metadata": {},
   "outputs": [
    {
     "data": {
      "image/png": "[encoded data removed]",
      "text/plain": [
       "<Figure size 432x432 with 4 Axes>"
      ]
     },
     "metadata": {},
     "output_type": "display_data"
    }
   ],
   "source": [
    "# Visualize the dataset:\n",
    "plt.figure(figsize=[6,6])\n",
    "for i in range(4):\n",
    "    plt.subplot(2,2,i+1)\n",
    "    plt.title(\"Label: %i\"%y_train[i])\n",
    "    plt.imshow(X_train[i].reshape([28,28]),cmap='gray');\n"
   ]
  },
  {
   "cell_type": "markdown",
   "metadata": {},
   "source": [
    "# Layer Structures of an MLP\n",
    "\n",
    "The most basic Aritificial Neural Networks (A.N.N) are composed of three different layers: an input layer, one or more hidden layers, and an output layer. Layers have certain operations performed inside them, more especifically, they have a forward and a backward operation and each layer is responsible for knowing which operations it must use. We start by defining the basic structure of a Layer, consisting of a forward and a backward pass.\n",
    "\n",
    "## Layer Parent Class"
   ]
  },
  {
   "cell_type": "code",
   "execution_count": 5,
   "metadata": {
    "collapsed": true
   },
   "outputs": [],
   "source": [
    "#############################################\n",
    "#\t\tMULTILAYER PERCEPTRON BLOCKS  \t\t# \n",
    "#############################################\n",
    "\n",
    "'''\n",
    "\tThis is a Layer class that serves as a general \"recipe\"/blueprint \n",
    "\tstructure (parent) for different types of Layer Objects. \n",
    "'''\n",
    "class Layer:\n",
    "    def __init__(self):\n",
    "        pass\n",
    "\n",
    "    def forward(self, input):\n",
    "        return input\n",
    "\n",
    "    def backward(self, input, grad_output):\n",
    "        num_units = input.shape[1]\n",
    "        d_layer_d_input = np.eye(num_units)\n",
    "        return np.dot(grad_output, d_layer_d_input) # chain rule\n"
   ]
  },
  {
   "cell_type": "markdown",
   "metadata": {},
   "source": [
    "## Dense Layer ##\n",
    "\n",
    "This is a classic fully connected neural network layer (each input node is connected to each output node). \n",
    "\n",
    "![image.png](img/Artificial_neural_network.jpg)"
   ]
  },
  {
   "cell_type": "code",
   "execution_count": 6,
   "metadata": {
    "collapsed": true
   },
   "outputs": [],
   "source": [
    "'''\n",
    "\n",
    "'''\n",
    "class Dense(Layer): # inherets structure from Layer from the parent class defined above\n",
    "    \n",
    "    def __init__(self, input_units, output_units, learning_rate=0.1):\n",
    "        # layer which performs a learned affine transformation:\n",
    "        # f(x) = <W*x> + b\n",
    "        self.learning_rate = learning_rate\n",
    "        self.weights = np.random.normal(loc=0.0, \n",
    "                                        scale = np.sqrt(2/(input_units+output_units)), \n",
    "                                        size = (input_units,output_units))\n",
    "        self.biases = np.zeros(output_units)\n",
    "        \n",
    "    def forward(self,input):\n",
    "        # Perform the following transformation:\n",
    "        # f(x) = W*X + b\n",
    "        \n",
    "        # input shape: [batch, input_units]\n",
    "        # output shape: [batch, output units]\n",
    "        \n",
    "        return np.dot(input,self.weights) + self.biases\n",
    "    \n",
    "    def backward(self,input,grad_output):\n",
    "      \n",
    "        grad_input = np.dot(grad_output, self.weights.T)\n",
    "        \n",
    "        # compute gradient w.r.t. weights and biases\n",
    "        grad_weights = np.dot(input.T, grad_output)\n",
    "        grad_biases = grad_output.mean(axis=0)*input.shape[0]\n",
    "        \n",
    "        assert grad_weights.shape == self.weights.shape and grad_biases.shape == self.biases.shape\n",
    "        \n",
    "        # Here we perform a stochastic gradient descent step. \n",
    "        self.weights = self.weights - self.learning_rate * grad_weights\n",
    "        self.biases = self.biases - self.learning_rate * grad_biases\n",
    "        \n",
    "        return grad_input"
   ]
  },
  {
   "cell_type": "markdown",
   "metadata": {},
   "source": [
    "## ReLU Layer ##\n",
    "\n",
    "The Rectified Linear Unit Layer (ReLU) is the most commonly used activation function in deep learning models. The function returns 0 if it receives any negative input, but for any positive value x it returns that value back. Can be written as $f(x) = max(0, x)$\n",
    "\n",
    "### Why? ###\n",
    "\n",
    "Activations serve two main purposes:\n",
    "\n",
    "1) It captures Interaction effects: \n",
    "- This is when a variable A affects a prediction differently depending on the value of B. \n",
    "   \n",
    "2) It captures Non-Linearities: \n",
    "- Pretty much approaches functions whose slope isn't a constant. "
   ]
  },
  {
   "cell_type": "code",
   "execution_count": 7,
   "metadata": {
    "collapsed": true
   },
   "outputs": [],
   "source": [
    "'''\n",
    "\n",
    "'''\n",
    "class ReLU(Layer):\n",
    "    def __init__(self):\n",
    "        pass\n",
    "    \n",
    "    def forward(self, input):\n",
    "        # Apply elementwise ReLU to [batch, input_units] matrix\n",
    "        relu_forward = np.maximum(0,input)\n",
    "        return relu_forward\n",
    "    \n",
    "    def backward(self, input, grad_output):\n",
    "        # Compute gradient of loss w.r.t. ReLU input\n",
    "        relu_grad = input > 0\n",
    "        return grad_output*relu_grad\n"
   ]
  },
  {
   "cell_type": "markdown",
   "metadata": {},
   "source": [
    "# Loss Function\n",
    "\n",
    "## Mean Square Error (MSE)\n",
    "\n",
    "## One Hot Encoding \n",
    "\n"
   ]
  },
  {
   "cell_type": "code",
   "execution_count": 8,
   "metadata": {
    "collapsed": true
   },
   "outputs": [],
   "source": [
    "#############################################\n",
    "#\t\t\tLOSS FUNCTION: MSE \t\t\t\t# \n",
    "#############################################\n",
    "\n",
    "def one_hot_encode(labels):\n",
    "    oh = np.zeros((len(labels), 10))\n",
    "    oh[np.arange(len(labels)), labels] = 1\n",
    "    return oh\n",
    "\n",
    "def one_hot_decode(labels):\n",
    "    return np.argmax(labels, axis=1)\n",
    "\n",
    "def mean_square_error(output, y):\n",
    "    #pred_oh = one_hot_encode(pred)\n",
    "    y_oh = one_hot_encode(y)\n",
    "    return np.sum(np.power(np.subtract(output, y_oh), 2), axis=-1)\n",
    "\n",
    "def grad_mean_square_error(output, y):\n",
    "    y_oh = one_hot_encode(y)\n",
    "    grad = 2*np.subtract(output, y_oh)/output.shape[0]\n",
    "    return grad"
   ]
  },
  {
   "cell_type": "markdown",
   "metadata": {},
   "source": [
    "# Feedforward and Backpropagation Algorithms"
   ]
  },
  {
   "cell_type": "code",
   "execution_count": 9,
   "metadata": {
    "collapsed": true
   },
   "outputs": [],
   "source": [
    "#############################################\n",
    "#\t\tMULTILAYER PERCEPTRON FUNCTIONS\t\t# \n",
    "#############################################\n",
    "\n",
    "def forward(network, X):\n",
    "    # Compute activations of all network layers by applying them sequentially.\n",
    "    # Return a list of activations for each layer. \n",
    "    \n",
    "    activations = []\n",
    "    input = X\n",
    "    # Looping through each layer\n",
    "    for l in network:\n",
    "        activations.append(l.forward(input))\n",
    "        # Updating input to last layer output\n",
    "        input = activations[-1]\n",
    "    \n",
    "    assert len(activations) == len(network)\n",
    "    return activations\n",
    "\n",
    "def predict(network,X):\n",
    "    # Compute network predictions. Returning indices of largest output probability\n",
    "    output = forward(network,X)[-1]\n",
    "    return output.argmax(axis=-1)\n",
    "\n",
    "def train(network,X,y):\n",
    "    # Train our network on a given batch of X and y.\n",
    "    # We first need to run forward to get all layer activations.\n",
    "    # Then we can run layer.backward going from last to first layer.\n",
    "    # After we have called backward for all layers, all Dense layers have already made one gradient step.\n",
    "    \n",
    "    # Get the layer activations\n",
    "    layer_activations = forward(network,X)\n",
    "    layer_inputs = [X]+layer_activations  #layer_input[i] is an input for network[i]\n",
    "    output = layer_activations[-1]\n",
    "    \n",
    "    loss = mean_square_error(output, y)\n",
    "    loss_grad = grad_mean_square_error(output, y)\n",
    "\n",
    "    #### BACKPROPAGATION LOOP ####\n",
    "    # Propagate gradients through the network\n",
    "    # Reverse propogation as this is backprop\n",
    "    for layer_index in range(len(network))[::-1]:\n",
    "        layer = network[layer_index]\n",
    "        loss_grad = layer.backward(layer_inputs[layer_index],loss_grad) #grad w.r.t. input, also weight updates\n",
    "        \n",
    "    return np.mean(loss)"
   ]
  },
  {
   "cell_type": "markdown",
   "metadata": {},
   "source": [
    "# Create The Model #"
   ]
  },
  {
   "cell_type": "code",
   "execution_count": 10,
   "metadata": {
    "collapsed": true
   },
   "outputs": [],
   "source": [
    "###############################\n",
    "# \t\tMODEL CREATION \t\t  #\n",
    "###############################\n",
    "\n",
    "def iterate_minibatches(inputs, targets, batchsize, shuffle=False):\n",
    "    assert len(inputs) == len(targets)\n",
    "    if shuffle:\n",
    "        indices = np.random.permutation(len(inputs))\n",
    "    for start_idx in trange(0, len(inputs) - batchsize + 1, batchsize):\n",
    "        if shuffle:\n",
    "            excerpt = indices[start_idx:start_idx + batchsize]\n",
    "        else:\n",
    "            excerpt = slice(start_idx, start_idx + batchsize)\n",
    "        yield inputs[excerpt], targets[excerpt]\n",
    "\n",
    "\n",
    "\n",
    "# load the dataset # \n",
    "X_train, y_train, X_val, y_val, X_test, y_test = load_dataset(flatten=True)\n",
    "\n",
    "'''\n",
    "\tLogs: we want to keep track of the accuracy and loss in our\n",
    "\tmodel at each step in our training process\n",
    "'''  \n",
    "train_acc_log = []\t\t\t# keeps track of training accuracy  \n",
    "val_acc_log = []            # keeps track of validation accuracy\n",
    "train_loss_log = []\t\t\t# keeps track of training loss\n",
    "val_loss_log = []\t\t\t# keeps track of training loss\n",
    "\n",
    "# Hyperparameters (simplest hyperparameters) #\n",
    "epochs = 25\n",
    "batchsize = 64\n",
    "lr = 0.1\n",
    "\n",
    "# Creating the MLP Network Architecture\n",
    "network = []\n",
    "network.append(Dense(X_train.shape[1],100, learning_rate=lr))\n",
    "network.append(ReLU())\n",
    "network.append(Dense(100,200, learning_rate=lr))\n",
    "network.append(ReLU())\n",
    "network.append(Dense(200,10, learning_rate=lr))\n"
   ]
  },
  {
   "cell_type": "markdown",
   "metadata": {},
   "source": [
    "# Training the Model #"
   ]
  },
  {
   "cell_type": "code",
   "execution_count": 11,
   "metadata": {},
   "outputs": [
    {
     "name": "stderr",
     "output_type": "stream",
     "text": [
      "100%|██████████| 781/781 [00:00<00:00, 1425.08it/s]\n",
      " 19%|█▉        | 148/781 [00:00<00:00, 1479.37it/s]"
     ]
    },
    {
     "name": "stdout",
     "output_type": "stream",
     "text": [
      "Epoch 1:\n",
      "Train accuracy: 0.93984\n",
      "Validation accuracy: 0.9467\n",
      "Train Loss: 0.12032\n",
      "Validation Loss: 0.1066\n"
     ]
    },
    {
     "name": "stderr",
     "output_type": "stream",
     "text": [
      "100%|██████████| 781/781 [00:00<00:00, 1499.22it/s]\n",
      " 19%|█▉        | 151/781 [00:00<00:00, 1506.80it/s]"
     ]
    },
    {
     "name": "stdout",
     "output_type": "stream",
     "text": [
      "Epoch 2:\n",
      "Train accuracy: 0.95472\n",
      "Validation accuracy: 0.9579\n",
      "Train Loss: 0.09056\n",
      "Validation Loss: 0.0842\n"
     ]
    },
    {
     "name": "stderr",
     "output_type": "stream",
     "text": [
      "100%|██████████| 781/781 [00:00<00:00, 1514.32it/s]\n",
      " 20%|█▉        | 153/781 [00:00<00:00, 1524.83it/s]"
     ]
    },
    {
     "name": "stdout",
     "output_type": "stream",
     "text": [
      "Epoch 3:\n",
      "Train accuracy: 0.9642\n",
      "Validation accuracy: 0.9641\n",
      "Train Loss: 0.0716\n",
      "Validation Loss: 0.0718\n"
     ]
    },
    {
     "name": "stderr",
     "output_type": "stream",
     "text": [
      "100%|██████████| 781/781 [00:00<00:00, 1489.05it/s]\n",
      " 20%|█▉        | 155/781 [00:00<00:00, 1548.29it/s]"
     ]
    },
    {
     "name": "stdout",
     "output_type": "stream",
     "text": [
      "Epoch 4:\n",
      "Train accuracy: 0.96904\n",
      "Validation accuracy: 0.9671\n",
      "Train Loss: 0.06192\n",
      "Validation Loss: 0.0658\n"
     ]
    },
    {
     "name": "stderr",
     "output_type": "stream",
     "text": [
      "100%|██████████| 781/781 [00:00<00:00, 1488.28it/s]\n",
      " 20%|█▉        | 156/781 [00:00<00:00, 1553.92it/s]"
     ]
    },
    {
     "name": "stdout",
     "output_type": "stream",
     "text": [
      "Epoch 5:\n",
      "Train accuracy: 0.97202\n",
      "Validation accuracy: 0.9685\n",
      "Train Loss: 0.05596\n",
      "Validation Loss: 0.063\n"
     ]
    },
    {
     "name": "stderr",
     "output_type": "stream",
     "text": [
      "100%|██████████| 781/781 [00:00<00:00, 1416.52it/s]\n",
      " 15%|█▌        | 121/781 [00:00<00:00, 1203.79it/s]"
     ]
    },
    {
     "name": "stdout",
     "output_type": "stream",
     "text": [
      "Epoch 6:\n",
      "Train accuracy: 0.97534\n",
      "Validation accuracy: 0.9688\n",
      "Train Loss: 0.04932\n",
      "Validation Loss: 0.0624\n"
     ]
    },
    {
     "name": "stderr",
     "output_type": "stream",
     "text": [
      "100%|██████████| 781/781 [00:00<00:00, 1417.55it/s]\n",
      " 19%|█▉        | 151/781 [00:00<00:00, 1503.88it/s]"
     ]
    },
    {
     "name": "stdout",
     "output_type": "stream",
     "text": [
      "Epoch 7:\n",
      "Train accuracy: 0.97678\n",
      "Validation accuracy: 0.9686\n",
      "Train Loss: 0.04644\n",
      "Validation Loss: 0.0628\n"
     ]
    },
    {
     "name": "stderr",
     "output_type": "stream",
     "text": [
      "100%|██████████| 781/781 [00:00<00:00, 1507.61it/s]\n",
      " 19%|█▉        | 152/781 [00:00<00:00, 1505.94it/s]"
     ]
    },
    {
     "name": "stdout",
     "output_type": "stream",
     "text": [
      "Epoch 8:\n",
      "Train accuracy: 0.97928\n",
      "Validation accuracy: 0.9709\n",
      "Train Loss: 0.04144\n",
      "Validation Loss: 0.0582\n"
     ]
    },
    {
     "name": "stderr",
     "output_type": "stream",
     "text": [
      "100%|██████████| 781/781 [00:00<00:00, 1395.41it/s]\n",
      " 18%|█▊        | 137/781 [00:00<00:00, 1368.42it/s]"
     ]
    },
    {
     "name": "stdout",
     "output_type": "stream",
     "text": [
      "Epoch 9:\n",
      "Train accuracy: 0.98048\n",
      "Validation accuracy: 0.9708\n",
      "Train Loss: 0.03904\n",
      "Validation Loss: 0.0584\n"
     ]
    },
    {
     "name": "stderr",
     "output_type": "stream",
     "text": [
      "100%|██████████| 781/781 [00:00<00:00, 1458.50it/s]\n",
      " 19%|█▉        | 152/781 [00:00<00:00, 1518.95it/s]"
     ]
    },
    {
     "name": "stdout",
     "output_type": "stream",
     "text": [
      "Epoch 10:\n",
      "Train accuracy: 0.98138\n",
      "Validation accuracy: 0.9712\n",
      "Train Loss: 0.03724\n",
      "Validation Loss: 0.0576\n"
     ]
    },
    {
     "name": "stderr",
     "output_type": "stream",
     "text": [
      "100%|██████████| 781/781 [00:00<00:00, 1490.96it/s]\n",
      " 19%|█▉        | 151/781 [00:00<00:00, 1508.99it/s]"
     ]
    },
    {
     "name": "stdout",
     "output_type": "stream",
     "text": [
      "Epoch 11:\n",
      "Train accuracy: 0.98258\n",
      "Validation accuracy: 0.9728\n",
      "Train Loss: 0.03484\n",
      "Validation Loss: 0.0544\n"
     ]
    },
    {
     "name": "stderr",
     "output_type": "stream",
     "text": [
      "100%|██████████| 781/781 [00:00<00:00, 1476.31it/s]\n",
      " 20%|█▉        | 154/781 [00:00<00:00, 1530.79it/s]"
     ]
    },
    {
     "name": "stdout",
     "output_type": "stream",
     "text": [
      "Epoch 12:\n",
      "Train accuracy: 0.9836\n",
      "Validation accuracy: 0.9732\n",
      "Train Loss: 0.0328\n",
      "Validation Loss: 0.0536\n"
     ]
    },
    {
     "name": "stderr",
     "output_type": "stream",
     "text": [
      "100%|██████████| 781/781 [00:00<00:00, 1468.83it/s]\n",
      " 18%|█▊        | 141/781 [00:00<00:00, 1403.03it/s]"
     ]
    },
    {
     "name": "stdout",
     "output_type": "stream",
     "text": [
      "Epoch 13:\n",
      "Train accuracy: 0.9851\n",
      "Validation accuracy: 0.9727\n",
      "Train Loss: 0.0298\n",
      "Validation Loss: 0.0546\n"
     ]
    },
    {
     "name": "stderr",
     "output_type": "stream",
     "text": [
      "100%|██████████| 781/781 [00:00<00:00, 1491.50it/s]\n",
      " 20%|█▉        | 155/781 [00:00<00:00, 1543.15it/s]"
     ]
    },
    {
     "name": "stdout",
     "output_type": "stream",
     "text": [
      "Epoch 14:\n",
      "Train accuracy: 0.98556\n",
      "Validation accuracy: 0.9736\n",
      "Train Loss: 0.02888\n",
      "Validation Loss: 0.0528\n"
     ]
    },
    {
     "name": "stderr",
     "output_type": "stream",
     "text": [
      "100%|██████████| 781/781 [00:00<00:00, 1518.97it/s]\n",
      " 20%|██        | 159/781 [00:00<00:00, 1580.69it/s]"
     ]
    },
    {
     "name": "stdout",
     "output_type": "stream",
     "text": [
      "Epoch 15:\n",
      "Train accuracy: 0.98656\n",
      "Validation accuracy: 0.9732\n",
      "Train Loss: 0.02688\n",
      "Validation Loss: 0.0536\n"
     ]
    },
    {
     "name": "stderr",
     "output_type": "stream",
     "text": [
      "100%|██████████| 781/781 [00:00<00:00, 1568.66it/s]\n",
      " 20%|█▉        | 155/781 [00:00<00:00, 1543.46it/s]"
     ]
    },
    {
     "name": "stdout",
     "output_type": "stream",
     "text": [
      "Epoch 16:\n",
      "Train accuracy: 0.98692\n",
      "Validation accuracy: 0.9745\n",
      "Train Loss: 0.02616\n",
      "Validation Loss: 0.051\n"
     ]
    },
    {
     "name": "stderr",
     "output_type": "stream",
     "text": [
      "100%|██████████| 781/781 [00:00<00:00, 1541.06it/s]\n",
      " 20%|██        | 157/781 [00:00<00:00, 1568.21it/s]"
     ]
    },
    {
     "name": "stdout",
     "output_type": "stream",
     "text": [
      "Epoch 17:\n",
      "Train accuracy: 0.98806\n",
      "Validation accuracy: 0.9752\n",
      "Train Loss: 0.02388\n",
      "Validation Loss: 0.0496\n"
     ]
    },
    {
     "name": "stderr",
     "output_type": "stream",
     "text": [
      "100%|██████████| 781/781 [00:00<00:00, 1522.58it/s]\n",
      " 20%|██        | 157/781 [00:00<00:00, 1566.53it/s]"
     ]
    },
    {
     "name": "stdout",
     "output_type": "stream",
     "text": [
      "Epoch 18:\n",
      "Train accuracy: 0.98854\n",
      "Validation accuracy: 0.9753\n",
      "Train Loss: 0.02292\n",
      "Validation Loss: 0.0494\n"
     ]
    },
    {
     "name": "stderr",
     "output_type": "stream",
     "text": [
      "100%|██████████| 781/781 [00:00<00:00, 1547.68it/s]\n",
      " 20%|██        | 158/781 [00:00<00:00, 1570.39it/s]"
     ]
    },
    {
     "name": "stdout",
     "output_type": "stream",
     "text": [
      "Epoch 19:\n",
      "Train accuracy: 0.9888\n",
      "Validation accuracy: 0.9735\n",
      "Train Loss: 0.0224\n",
      "Validation Loss: 0.053\n"
     ]
    },
    {
     "name": "stderr",
     "output_type": "stream",
     "text": [
      "100%|██████████| 781/781 [00:00<00:00, 1552.04it/s]\n",
      " 20%|█▉        | 154/781 [00:00<00:00, 1538.90it/s]"
     ]
    },
    {
     "name": "stdout",
     "output_type": "stream",
     "text": [
      "Epoch 20:\n",
      "Train accuracy: 0.98972\n",
      "Validation accuracy: 0.9752\n",
      "Train Loss: 0.02056\n",
      "Validation Loss: 0.0496\n"
     ]
    },
    {
     "name": "stderr",
     "output_type": "stream",
     "text": [
      "100%|██████████| 781/781 [00:00<00:00, 1534.50it/s]\n",
      " 20%|█▉        | 154/781 [00:00<00:00, 1538.85it/s]"
     ]
    },
    {
     "name": "stdout",
     "output_type": "stream",
     "text": [
      "Epoch 21:\n",
      "Train accuracy: 0.9899\n",
      "Validation accuracy: 0.9736\n",
      "Train Loss: 0.0202\n",
      "Validation Loss: 0.0528\n"
     ]
    },
    {
     "name": "stderr",
     "output_type": "stream",
     "text": [
      "100%|██████████| 781/781 [00:00<00:00, 1522.79it/s]\n",
      " 20%|██        | 157/781 [00:00<00:00, 1560.64it/s]"
     ]
    },
    {
     "name": "stdout",
     "output_type": "stream",
     "text": [
      "Epoch 22:\n",
      "Train accuracy: 0.9905\n",
      "Validation accuracy: 0.9746\n",
      "Train Loss: 0.019\n",
      "Validation Loss: 0.0508\n"
     ]
    },
    {
     "name": "stderr",
     "output_type": "stream",
     "text": [
      "100%|██████████| 781/781 [00:00<00:00, 1541.35it/s]\n",
      " 20%|█▉        | 155/781 [00:00<00:00, 1546.92it/s]"
     ]
    },
    {
     "name": "stdout",
     "output_type": "stream",
     "text": [
      "Epoch 23:\n",
      "Train accuracy: 0.9916\n",
      "Validation accuracy: 0.975\n",
      "Train Loss: 0.0168\n",
      "Validation Loss: 0.05\n"
     ]
    },
    {
     "name": "stderr",
     "output_type": "stream",
     "text": [
      "100%|██████████| 781/781 [00:00<00:00, 1529.53it/s]\n",
      " 20%|██        | 158/781 [00:00<00:00, 1575.44it/s]"
     ]
    },
    {
     "name": "stdout",
     "output_type": "stream",
     "text": [
      "Epoch 24:\n",
      "Train accuracy: 0.99158\n",
      "Validation accuracy: 0.9747\n",
      "Train Loss: 0.01684\n",
      "Validation Loss: 0.0506\n"
     ]
    },
    {
     "name": "stderr",
     "output_type": "stream",
     "text": [
      "100%|██████████| 781/781 [00:00<00:00, 1469.46it/s]\n"
     ]
    },
    {
     "name": "stdout",
     "output_type": "stream",
     "text": [
      "Epoch 25:\n",
      "Train accuracy: 0.99196\n",
      "Validation accuracy: 0.9742\n",
      "Train Loss: 0.01608\n",
      "Validation Loss: 0.0516\n"
     ]
    }
   ],
   "source": [
    "###############################\n",
    "# \t THE ACTUAL TRAINING \t  #\n",
    "###############################\n",
    "\n",
    "for epoch in range(epochs): # One epoch is a full run through the whole training set (forward and backward pass)\n",
    "    for x_batch,y_batch in iterate_minibatches(X_train, y_train, batchsize=batchsize, shuffle=True):\n",
    "        train(network,x_batch,y_batch) # one forward and backward pass for a given batch\n",
    "\n",
    "    # Log accuracy and loss in each epoch #\n",
    "    # Predictions #\n",
    "    pred_train = predict(network, X_train)\n",
    "    pred_val = predict(network, X_val)\n",
    "\n",
    "    # Metrics #\n",
    "    train_acc = np.mean(pred_train == y_train)\n",
    "    val_acc = np.mean(pred_val == y_val)\n",
    "    train_loss = np.mean(mean_square_error(one_hot_encode(pred_train), y_train)) # ask me about this \n",
    "    val_loss = np.mean(mean_square_error(one_hot_encode(pred_val), y_val))       # ask me about this\n",
    "\n",
    "    # Log #\n",
    "    train_acc_log.append(train_acc)     # accuracy\n",
    "    val_acc_log.append(val_acc)\n",
    "\n",
    "    train_loss_log.append(train_loss)   # loss\n",
    "    val_loss_log.append(val_loss)\n",
    "\n",
    "    # clear_output()\n",
    "    # Display metrics of each epoch #\n",
    "    print(\"Epoch %s:\"%str(epoch+1))\n",
    "    print(\"Train accuracy:\",train_acc_log[-1])\n",
    "    print(\"Validation accuracy:\",val_acc_log[-1])\n",
    "    print(\"Train Loss:\", train_loss_log[-1])\n",
    "    print(\"Validation Loss:\", val_loss_log[-1])\n",
    "    \n",
    "# plotting accuracy and loss graphs #\n",
    "\n",
    "# plot_model_results(train_acc_log, val_acc_log, \n",
    "#                    train_loss_log, val_loss_log)\n",
    "\n"
   ]
  },
  {
   "cell_type": "markdown",
   "metadata": {},
   "source": [
    "# Plotting Accuracy and Loss Function #"
   ]
  },
  {
   "cell_type": "code",
   "execution_count": 12,
   "metadata": {
    "collapsed": true
   },
   "outputs": [],
   "source": [
    "###############################\n",
    "#      PLOTTING RESULTS       #\n",
    "###############################\n",
    "\n",
    "'''\n",
    "\n",
    "'''\n",
    "def plot_model_results(train_log, val_log, train_loss, val_loss):\n",
    "    import seaborn as sns   # make it pretty\n",
    "    with sns.axes_style(\"darkgrid\"):\n",
    "        \n",
    "        fig, axes = plt.subplots(nrows=1, ncols=2)\n",
    "\n",
    "        # title of figure\n",
    "        title = \\\n",
    "        \"Arch :: Epochs: %s | Batch Size: %s | Learning Rate: %s\"\\\n",
    "        %(epochs, batchsize, lr)\n",
    "        fig.suptitle(title)\n",
    "\n",
    "        # accuracy metrics\n",
    "        axes[0].plot(train_log, label='train accuracy')\n",
    "        axes[0].plot(val_log, label='val accuracy')\n",
    "        axes[0].set_title(\"Train Accuracy: %.3f\"%train_log[-1])\n",
    "        axes[0].set_ylabel(\"Accuracy\")\n",
    "        axes[0].set_xlabel(\"Epoch\")\n",
    "        axes[0].legend(loc='best')\n",
    "\n",
    "        # loss metrics\n",
    "        axes[1].plot(train_loss, label='train loss')\n",
    "        axes[1].plot(val_loss, label='val loss')\n",
    "        axes[1].set_title(\"Train Loss: %.5f\"%train_loss[-1])\n",
    "        axes[1].set_ylabel(\"Loss\")\n",
    "        axes[1].set_xlabel(\"Epoch\")\n",
    "        axes[1].legend(loc='best')\n",
    "        plt.show()\n",
    "\n",
    "        # save figure\n",
    "        params = epochs, batchsize, str(lr).replace('.', ',')\n",
    "        fig.savefig(\"mlp_e%s_b%s_lr%s.png\"%(params))"
   ]
  },
  {
   "cell_type": "markdown",
   "metadata": {},
   "source": [
    "# Confusion Matrix # \n",
    "\n",
    "The confusion matrix is a table used often to describe the performance of a classification model, as in our case. It examines the predictions made on the testing set and compares them to the actual target values we wanted to predict. \n",
    "\n",
    "\n",
    "\n"
   ]
  },
  {
   "cell_type": "code",
   "execution_count": 13,
   "metadata": {
    "collapsed": true
   },
   "outputs": [],
   "source": [
    "'''\n",
    "    function taken from: \n",
    "    https://scikit-learn.org/stable/auto_examples/model_selection/plot_confusion_matrix.html\n",
    "'''\n",
    "from sklearn.metrics import confusion_matrix\n",
    "def plot_confusion_matrix(y_true, y_pred, classes,\n",
    "                          normalize=False,\n",
    "                          title=None,\n",
    "                          cmap=plt.cm.Blues):\n",
    "    \"\"\"\n",
    "    This function prints and plots the confusion matrix.\n",
    "    Normalization can be applied by setting `normalize=True`.\n",
    "    \"\"\"\n",
    "    if not title:\n",
    "        if normalize:\n",
    "            title = 'Normalized confusion matrix'\n",
    "        else:\n",
    "            title = 'Confusion matrix, without normalization'\n",
    "\n",
    "    # Compute confusion matrix\n",
    "    cm = confusion_matrix(y_true, y_pred)\n",
    "\n",
    "    fig, ax = plt.subplots()\n",
    "    im = ax.imshow(cm, interpolation='nearest', cmap=cmap)\n",
    "    ax.figure.colorbar(im, ax=ax)\n",
    "    # We want to show all ticks...\n",
    "    ax.set(xticks=np.arange(cm.shape[1]),\n",
    "           yticks=np.arange(cm.shape[0]),\n",
    "           # ... and label them with the respective list entries\n",
    "           xticklabels=classes, yticklabels=classes,\n",
    "           title=title,\n",
    "           ylabel='True label',\n",
    "           xlabel='Predicted label')\n",
    "\n",
    "    # Rotate the tick labels and set their alignment.\n",
    "    plt.setp(ax.get_xticklabels(), rotation=45, ha=\"right\",\n",
    "             rotation_mode=\"anchor\")\n",
    "\n",
    "    # Loop over data dimensions and create text annotations.\n",
    "    fmt = '.2f' if normalize else 'd'\n",
    "    thresh = cm.max() / 2.\n",
    "    for i in range(cm.shape[0]):\n",
    "        for j in range(cm.shape[1]):\n",
    "            ax.text(j, i, format(cm[i, j], fmt),\n",
    "                    ha=\"center\", va=\"center\",\n",
    "                    color=\"white\" if cm[i, j] > thresh else \"black\")\n",
    "    fig.tight_layout()\n",
    "    return ax"
   ]
  },
  {
   "cell_type": "code",
   "execution_count": 14,
   "metadata": {},
   "outputs": [
    {
     "data": {
      "image/png": "[encoded data removed]",
      "text/plain": [
       "<Figure size 432x288 with 2 Axes>"
      ]
     },
     "metadata": {},
     "output_type": "display_data"
    },
    {
     "data": {
      "image/png": "[encoded data removed]",
      "text/plain": [
       "<Figure size 432x288 with 2 Axes>"
      ]
     },
     "metadata": {},
     "output_type": "display_data"
    }
   ],
   "source": [
    "# # plotting accuracy and loss graphs #\n",
    "\n",
    "plot_model_results(train_acc_log, val_acc_log, \n",
    "                   train_loss_log, val_loss_log)\n",
    "\n",
    "\n",
    "# confusion matrix #\n",
    "class_names = [0,1,2,3,4,5,6,7,8,9]\n",
    "pred_test = predict(network, X_test)   # using test set (finally!)\n",
    "plot_confusion_matrix(y_test, pred_test, classes=class_names, title=\"Confusion Matrix\")\n",
    "plt.show()"
   ]
  }
 ],
 "metadata": {
  "kernelspec": {
   "display_name": "Python 3",
   "language": "python",
   "name": "python3"
  },
  "language_info": {
   "codemirror_mode": {
    "name": "ipython",
    "version": 3
   },
   "file_extension": ".py",
   "mimetype": "text/x-python",
   "name": "python",
   "nbconvert_exporter": "python",
   "pygments_lexer": "ipython3",
   "version": "3.6.8"
  }
 },
 "nbformat": 4,
 "nbformat_minor": 2
}
