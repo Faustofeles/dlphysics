{
 "cells": [
  {
   "cell_type": "markdown",
   "metadata": {},
   "source": [
    "# Introduction to Neural Networks\n",
    "\n",
    "## What is Deep Learning \n",
    "\n",
    "* What are artificial neural networks?\n",
    "\n",
    "* General Theory:\n",
    "    * Activation function\n",
    "    * Layers\n",
    "    * Learning \n",
    "\n",
    "* Types of artificial neural networks\n",
    "\n",
    "* Multilayer Perceptrons\n",
    "* Convolutional Neural Networks \n",
    "* Recurrent Neural Networks\n",
    "* Generative Adversarial Networks\n",
    "* Variational Autoencoders\n",
    "\n",
    "\n",
    "## Multilayer Perceptron (MLP)\n",
    "\n",
    "### Topics to cover\n",
    "\n",
    "* classification vs regression task\n",
    "* feedforward \n",
    "* neurons and layers: input, hidden(s), output\n",
    "* activation function\n",
    "* error/loss function\n",
    "* gradient descent and back propagation \n",
    "* epochs\n",
    "* plotting accuracy and error\n",
    "* measuring matrices: accuracy, precision, and recall\n",
    "* bias variance tradeoff: underfitting and overfitting \n",
    "* regularization techniques (and why we use them)\n",
    "\n",
    "## Dataset\n",
    "\n",
    "* MNIST\n",
    "* **Binary Classification Dataset**\n",
    "* Regression Dataset (Housing)\n",
    "\n",
    "## Data Preprocessing\n",
    "\n",
    "### Why do we need to preprocess the data?\n",
    "\n",
    "### Types\n",
    "* Normalization\n",
    "* Standardization\n",
    "* MinMax\n",
    "* PCA\n",
    "\n",
    "\n",
    "## MLP in Tensorflow\n",
    "\n",
    "\n"
   ]
  }
 ],
 "metadata": {
  "kernelspec": {
   "display_name": "Python 3",
   "language": "python",
   "name": "python3"
  },
  "language_info": {
   "codemirror_mode": {
    "name": "ipython",
    "version": 3
   },
   "file_extension": ".py",
   "mimetype": "text/x-python",
   "name": "python",
   "nbconvert_exporter": "python",
   "pygments_lexer": "ipython3",
   "version": "3.6.5"
  }
 },
 "nbformat": 4,
 "nbformat_minor": 2
}
