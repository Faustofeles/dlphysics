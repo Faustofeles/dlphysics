{
 "cells": [
  {
   "cell_type": "markdown",
   "metadata": {},
   "source": [
    "# Python Programming Language\n",
    "\n",
    "Python is one of the most popular programming languages used today primarily because it is easy to use, it is highly readibility, and it has a rich number of libraries supported by a huge community of developers. Python has libraries for almost anything you can think of, therefore, it is an amazing tool to invest in.\n",
    "\n",
    "## Data Types\n",
    "\n",
    "In programing, a data type is an attribute of the data itself. It is a way to tell the computer how you (the programmer) intends to use the data. For example, you want to let the computer know that a variable should be treated an interger, a decimal, or strings of characters (the way we represent text).  \n",
    "\n",
    "Fortunately, in Python you do not need to explicitly declare the data type of your variables like in other programming languages; Python takes care of that for you! You can declare integers, decimals, and strings of characters as easy as:"
   ]
  },
  {
   "cell_type": "code",
   "execution_count": null,
   "metadata": {},
   "outputs": [],
   "source": [
    "# Note: in python, comments are written using '#'\n",
    "c = 2 # integers \n",
    "pi = 3.1415 # decimals / floats\n",
    "h = 6.626e-34 # scientific notation\n",
    "\n",
    "# strings can be declared using single or double quotes\n",
    "name_dq = \"John Doe\" \n",
    "name_sq = 'John Doe' \n",
    "\n",
    "# printing function\n",
    "print(\"Integer:\", c)\n",
    "print(\"Decimal:\", pi)\n",
    "print(\"Plank's Constant:\", h)\n",
    "print(\"Name:\", name_dq)"
   ]
  },
  {
   "cell_type": "markdown",
   "metadata": {},
   "source": [
    "## Math Operations\n",
    "\n",
    "These are the most common math operations you should know: addition (-), subtraction (+), multiplication (*), division (/), modulus (%), exponents (**)"
   ]
  },
  {
   "cell_type": "code",
   "execution_count": null,
   "metadata": {},
   "outputs": [],
   "source": [
    "# arithmetic operations\n",
    "print(\"Arithmetic Ops:\")\n",
    "print(c + pi)\n",
    "print(pi - c)\n",
    "print(c * pi)\n",
    "print(c / c)"
   ]
  },
  {
   "cell_type": "code",
   "execution_count": null,
   "metadata": {
    "scrolled": true
   },
   "outputs": [],
   "source": [
    "# modulo\n",
    "print(\"Modulo:\")\n",
    "print(7 % 5)\n",
    "print(9 % 5)\n",
    "print(9 % 3)"
   ]
  },
  {
   "cell_type": "code",
   "execution_count": null,
   "metadata": {},
   "outputs": [],
   "source": [
    "# exponential\n",
    "print(\"Exponents:\")\n",
    "print(pi**2)\n",
    "print(pi**3)"
   ]
  },
  {
   "cell_type": "markdown",
   "metadata": {},
   "source": [
    "## Lists, Tuples, and Dictionaries\n",
    "\n",
    "This is where the magic of Python really shines. Lists, Tuples, and Dictionaries are data structures that Python offers \"-of-the-box\" and their uses are almost limitless. We'll explain them here and will give a few examples for when to use them. \n",
    "\n",
    "### Lists\n",
    " A list allows you to create... well, a list of values (or elements) that then can be manipulated. Each element in a list has an index, and the **first element in the list has index zero**.\n"
   ]
  },
  {
   "cell_type": "code",
   "execution_count": null,
   "metadata": {},
   "outputs": [],
   "source": [
    "# lists use square brackets\n",
    "grocery_list = [\"Juice\", \"Tomatoes\", \"Potatoes\",\n",
    "                \"Bananas\"]\n",
    "\n",
    "# remember indexing starts at zero\n",
    "print(\"First Item:\", grocery_list[0])\n",
    "\n",
    "# change the value of first item\n",
    "grocery_list[0] = \"Green Juice\"\n",
    "print(\"First Item:\", grocery_list[0])\n",
    "\n",
    "# print subset of a list; half-closed intervals [a,b)\n",
    "print(grocery_list[1:3]) # from 1 to 2 (not included 3)"
   ]
  },
  {
   "cell_type": "code",
   "execution_count": null,
   "metadata": {},
   "outputs": [],
   "source": [
    "# We can also work with lists of lists (lists inside other lists)\n",
    "other_events = [\"Wash Car\", \"Pick Up Kids\", \"Cash Check\"]\n",
    "\n",
    "# we can store two lists in a list, like this:\n",
    "to_do_list = [other_events, grocery_list]\n",
    "print(to_do_list)\n",
    "\n",
    "# getting the second item of the second\n",
    "print(\"\\n2nd item of 2nd list:\", to_do_list[1][1]) "
   ]
  },
  {
   "cell_type": "code",
   "execution_count": null,
   "metadata": {},
   "outputs": [],
   "source": [
    "# appending items to a list\n",
    "grocery_list.append(\"Onions\")\n",
    "print(grocery_list)"
   ]
  },
  {
   "cell_type": "code",
   "execution_count": null,
   "metadata": {},
   "outputs": [],
   "source": [
    "# insert at a specific index\n",
    "grocery_list.insert(1, \"Pickles\")\n",
    "print(grocery_list)"
   ]
  },
  {
   "cell_type": "code",
   "execution_count": null,
   "metadata": {},
   "outputs": [],
   "source": [
    "# removing element\n",
    "grocery_list.remove(\"Pickles\")\n",
    "print(grocery_list)"
   ]
  },
  {
   "cell_type": "code",
   "execution_count": null,
   "metadata": {},
   "outputs": [],
   "source": [
    "# sorting lists\n",
    "lab_members = [\"Marcos\",\"Adrian\",\"Jorge\",\"Reynaldo\",\"Sofia\",\"Arturo\"]\n",
    "print(lab_members, \"\\n\")\n",
    "lab_members.sort()\n",
    "print(lab_members, \"\\n\")\n",
    "lab_members.reverse()\n",
    "print(lab_members)"
   ]
  },
  {
   "cell_type": "markdown",
   "metadata": {},
   "source": [
    "*** Note: list examples extracted from [here](https://www.youtube.com/watch?v=N4mEzFDjqtA) ***"
   ]
  },
  {
   "cell_type": "markdown",
   "metadata": {},
   "source": [
    "### Tuples\n",
    "\n",
    "Tuples are very similar to lists, however, tuples cannot be changed once created. It is useful whenever you have data that you do not wish to be changed. The syntax for tuples is uses parenthesis instead of square brackets. "
   ]
  },
  {
   "cell_type": "code",
   "execution_count": null,
   "metadata": {
    "scrolled": true
   },
   "outputs": [],
   "source": [
    "# creating a tuple\n",
    "coords = (1, 5, 7)\n",
    "\n",
    "print(coords[0])\n",
    "print(coords[1])\n",
    "print(coords[2])\n",
    "print(\"Sum: \", sum(coords))\n",
    "print(\"Max: \", max(coords))\n",
    "print(\"Min: \", min(coords))"
   ]
  },
  {
   "cell_type": "markdown",
   "metadata": {},
   "source": [
    "### Dictionaries\n",
    "\n",
    "Dictionaries are one of the best data type objects the Python programming language offers. Python dictionaries are also known as `Maps` because they \"map\" key-value pairs. Especifically, dictionaries implement a type of data structure called `HashMaps`. \n",
    "\n",
    "Dictionaries contain values with a unique key for each value. "
   ]
  },
  {
   "cell_type": "code",
   "execution_count": null,
   "metadata": {},
   "outputs": [],
   "source": [
    "# creating dictionary of superheroes\n",
    "# structure ----> <Key> : <Value>\n",
    "super_heroes = {'Spider Man': 'Peter Parker',\n",
    "                  'Super Man':'Clark Kent',\n",
    "                  'Batman':'Bruce Wayne',\n",
    "                  'Flash':'Barry Allen',\n",
    "                  'Arrow':'Oliver Queen'}\n",
    "\n",
    "# getting values through keys\n",
    "print(super_heroes[\"Batman\"])\n",
    "\n",
    "# deleting key-value pair\n",
    "del super_heroes[\"Arrow\"]\n",
    "\n",
    "# adding new key-value pair\n",
    "super_heroes[\"Wonder Women\"] = \"Diana Prince\"\n",
    "\n",
    "print(\"New list: \\n\", super_heroes)"
   ]
  },
  {
   "cell_type": "code",
   "execution_count": null,
   "metadata": {},
   "outputs": [],
   "source": [
    "# getting a list of the keys\n",
    "print(super_heroes.keys())\n",
    "\n",
    "# getting a list of the values\n",
    "print(super_heroes.values())"
   ]
  },
  {
   "cell_type": "markdown",
   "metadata": {},
   "source": [
    "*** Note: dictionaries examples extracted from [here](https://www.youtube.com/watch?v=N4mEzFDjqtA) ***"
   ]
  },
  {
   "cell_type": "markdown",
   "metadata": {},
   "source": [
    "## Conditional Statements\n",
    "\n",
    "Computer programs are executed sequantially, however, sometimes you want to skip over the execution of some statements or loop over a set of instructions. This is where control structures come in. Control structures direct the order of execution of the code in a program. \n",
    "\n",
    "Python (and almost all programming languages) uses `if-else` and `elif` keywords to create conditional statements. Their structure looks like this:\n",
    "\n",
    "```python\n",
    "if <exp>:\n",
    "    <statement>\n",
    "```\n",
    "\n",
    "or\n",
    "\n",
    "```python\n",
    "if <exp>:\n",
    "    <statement>\n",
    "else:\n",
    "    <statement>\n",
    "```\n",
    "\n",
    "or\n",
    "\n",
    "```python\n",
    "if <exp>:\n",
    "    <statement>\n",
    "elif <exp>:\n",
    "    <statement>\n",
    ".\n",
    ".\n",
    ".\n",
    "else:\n",
    "    <statement>\n",
    "```\n",
    "\n",
    "In easy terms, an expression `<exp>` will be evaluated and result in a boolean value. If the result of the expression is `True`, then the indented `<statement>` is executed. If `False`, the program skips the indented statment and moves to the next block of code. \n",
    "\n",
    "The `else` keyword is used to execute another statement if the expression in the `if` statement fails. The `elif` statement stands for \"else if\", if the expression in the `if` statement is false, we evaluate the expression in the `elif` statement next, and so on. \n",
    "\n",
    "We can use Comparison and Logical Operators to create expressions that are evaluated in conditional statements. "
   ]
  },
  {
   "cell_type": "markdown",
   "metadata": {},
   "source": [
    "### Comparison Operators\n",
    "\n",
    "This are the comparison operators available in Python: \n",
    "* `<`    less than\n",
    "* `<=`   less than or equal \n",
    "* `>`    more than\n",
    "* `>=`   more than or equal\n",
    "* `==`   equal\n",
    "* `!=`   not equal "
   ]
  },
  {
   "cell_type": "code",
   "execution_count": null,
   "metadata": {},
   "outputs": [],
   "source": [
    "a = 1\n",
    "b = 2\n",
    "c = 3\n",
    "d = 1\n",
    "\n",
    "# numerical values\n",
    "print(\"a < b ? \", a < b)\n",
    "print(\"b < a ? \", b < a)\n",
    "print(\"a != c ?\", a != c)\n",
    "print(\"a == d ?\", a == d)\n",
    "# also works with strings\n",
    "print(\"String example:\", \"Arturo\" == \"Arturo\")"
   ]
  },
  {
   "cell_type": "markdown",
   "metadata": {},
   "source": [
    "We can now use this comparison operators to create expressions for conditional statements:"
   ]
  },
  {
   "cell_type": "code",
   "execution_count": null,
   "metadata": {},
   "outputs": [],
   "source": [
    "age = 10 # change this integer value\n",
    "\n",
    "if age >= 21:\n",
    "    print(\"You can drink\")\n",
    "else:\n",
    "    print(\"You cannot drink\")"
   ]
  },
  {
   "cell_type": "markdown",
   "metadata": {},
   "source": [
    "### Logical Operators\n",
    "\n",
    "Logical Operators make it possible to have more powerful conditional statements. These are the operators used in boolean algebra, they are:\n",
    "\n",
    "* and\n",
    "* or\n",
    "* not\n",
    "\n",
    "The structure is as follows:\n",
    "\n",
    "```python\n",
    "<exp> and <exp>\n",
    "```\n",
    "\n",
    "```python\n",
    "<exp> or <exp>\n",
    "```\n",
    "\n",
    "```python\n",
    "not <exp>\n",
    "```\n",
    "\n",
    "The `and` operator returns `True` if both expressions are `True`. The `or` operator returns `True` if at least one of the expressions is `True`. Finally, the `not` operator returns the negations of the expression, e.g., returns `True` if expression is `False` and viceversa. \n"
   ]
  },
  {
   "cell_type": "code",
   "execution_count": null,
   "metadata": {},
   "outputs": [],
   "source": [
    "# examples of logical operators\n",
    "a = True\n",
    "b = True\n",
    "c = False\n",
    "\n",
    "print(\"a and b? : \", a and b)\n",
    "print(\"a and c? : \", a and c)\n",
    "print(\"a or c? : \", a or c)\n",
    "print(\"not a? : \", not a)\n",
    "print(\"not c? : \", not c )\n"
   ]
  },
  {
   "cell_type": "markdown",
   "metadata": {},
   "source": [
    "### More Powerful Conditional Statements: using comparison and logical operators\n"
   ]
  },
  {
   "cell_type": "code",
   "execution_count": null,
   "metadata": {},
   "outputs": [],
   "source": [
    "age = 25 # change this variable\n",
    "\n",
    "if age <= 0:\n",
    "    print(\"Hasn't been born yet!\")\n",
    "elif age > 0 and age < 18:\n",
    "    print(\"Cannot drink and cannot buy cigarettes\")\n",
    "elif age >= 18 and age < 21:\n",
    "    print(\"Cannot drink but can buy cigarettes\")\n",
    "elif age >= 21:\n",
    "    print(\"You can drink and buy cigarettes\")\n",
    "else:\n",
    "    print(\"you broke my logic\")"
   ]
  },
  {
   "cell_type": "code",
   "execution_count": null,
   "metadata": {},
   "outputs": [],
   "source": [
    "nation = \"CAN\"\n",
    "\n",
    "if nation == \"MX\" or nation==\"USA\" or nation==\"CAN\":\n",
    "    print(\"NAFTA member\")\n",
    "else: \n",
    "    print(\"not a NAFTA member\")"
   ]
  },
  {
   "cell_type": "markdown",
   "metadata": {},
   "source": [
    "## Loops\n",
    "\n",
    "There are two main loop statements in python, the `for` loop and the `while` loop. Loops are control flow statements that iterate through a sequence of statements. Meaning that each statements sequence within a loop repeats itself a number of times until a certain condition is met. \n",
    "\n",
    "### While Loops\n",
    "\n",
    "While loops repeat as long as a certain boolean condition is met"
   ]
  },
  {
   "cell_type": "code",
   "execution_count": null,
   "metadata": {},
   "outputs": [],
   "source": [
    "count = 0\n",
    "while count < 10:\n",
    "    print(count)\n",
    "    count += 1 # same as saying count = count + 1"
   ]
  },
  {
   "cell_type": "markdown",
   "metadata": {},
   "source": [
    "**TIP: While loops are generally used when you do not know how long you will need to iterate - you are waiting for something to happen.**"
   ]
  },
  {
   "cell_type": "markdown",
   "metadata": {},
   "source": [
    "### For Loops\n",
    "\n",
    "For loops iterate over a given sequence. For example:"
   ]
  },
  {
   "cell_type": "code",
   "execution_count": null,
   "metadata": {},
   "outputs": [],
   "source": [
    "items = [\"apples\", \"oranges\", \"tomatoes\", \"kiwis\"]\n",
    "\n",
    "for item in items:\n",
    "    print(item)"
   ]
  },
  {
   "cell_type": "code",
   "execution_count": null,
   "metadata": {},
   "outputs": [],
   "source": [
    "for x in range(10):\n",
    "    print(x)"
   ]
  },
  {
   "cell_type": "code",
   "execution_count": null,
   "metadata": {},
   "outputs": [],
   "source": [
    "for x in range(0,10,2): # in steps of 2's\n",
    "    print(x)"
   ]
  },
  {
   "cell_type": "markdown",
   "metadata": {},
   "source": [
    "**TIP: For loops are typically used when you know how many iterations you will be doing - e.g. you iterate through a list or some sequence.**\n",
    "\n",
    "### Important Resources For Loops\n",
    "\n",
    "Loops are super super important, here are some resources you will need at some point:\n",
    "* [Iterating over a Python list](http://interactivepython.org/runestone/static/CS152f17/Lists/Listsandforloops.html)\n",
    "* [Nested Loops in Python](http://interactivepython.org/runestone/static/CS152f17/Lists/Listsandforloops.html)\n",
    "* [Iterating over a Python Dictionary](https://thispointer.com/different-ways-to-iterate-loop-over-a-dictionary-in-python/T)"
   ]
  },
  {
   "cell_type": "markdown",
   "metadata": {},
   "source": [
    "## Strings Manipulation\n",
    "\n",
    "We do not need to know much about strings for what we'll be doing in the lab, but a basic understanding is necessary **`[TODO]`**."
   ]
  },
  {
   "cell_type": "markdown",
   "metadata": {},
   "source": [
    "## Functions in Python\n",
    "\n",
    "We conclude the very basics of Python with the concept of functions. Functions in programming are analoguos to functions in mathematics you are already familiar with. They are blocks of code that receive certain inputs, the inputs go into a box where some computation occurs, and then the box outputs some result values. \n",
    "\n",
    "Functions in Python are very easy to write but they can also get very complicated with more advanced methods. For now, it suffices for you to know the basic structure and syntax of Python structures:\n",
    "\n",
    "```python\n",
    "def <function name>(<arguments>):\n",
    "    <statement 1>\n",
    "    .\n",
    "    .\n",
    "    .\n",
    "    <statement n>\n",
    "    return <output values>\n",
    "```\n",
    "\n",
    "The `def` keyword lets the Python interpreter know that what follows is a function definition. Let us look at an example:"
   ]
  },
  {
   "cell_type": "code",
   "execution_count": null,
   "metadata": {},
   "outputs": [],
   "source": [
    "from math import sqrt\n",
    "# a rather simple example\n",
    "\n",
    "def pythagoras(a, b):\n",
    "    c = sqrt(a**2 + b**2)\n",
    "    return c\n",
    "\n",
    "print(pythagoras(3, 4))"
   ]
  },
  {
   "cell_type": "markdown",
   "metadata": {},
   "source": [
    "**Note: a function does not have to return values nor does it need input arguments.**"
   ]
  },
  {
   "cell_type": "markdown",
   "metadata": {},
   "source": [
    "# USE THE INTERNET NOW\n",
    "\n",
    "**Here is one of my favorite YouTube Channels for learning programming languages, please go over this video by the next workshop (you do not need to install Python again):**\n",
    "\n",
    "Derek Banas: https://www.youtube.com/watch?v=N4mEzFDjqtA\n"
   ]
  }
 ],
 "metadata": {
  "kernelspec": {
   "display_name": "Python 3",
   "language": "python",
   "name": "python3"
  },
  "language_info": {
   "codemirror_mode": {
    "name": "ipython",
    "version": 3
   },
   "file_extension": ".py",
   "mimetype": "text/x-python",
   "name": "python",
   "nbconvert_exporter": "python",
   "pygments_lexer": "ipython3",
   "version": "3.6.5"
  }
 },
 "nbformat": 4,
 "nbformat_minor": 2
}
