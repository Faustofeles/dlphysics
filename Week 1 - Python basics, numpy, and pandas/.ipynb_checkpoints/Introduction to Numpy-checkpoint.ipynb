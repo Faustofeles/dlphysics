{
 "cells": [
  {
   "cell_type": "markdown",
   "metadata": {},
   "source": [
    "# Introduction to NumPy\n",
    "\n",
    "NumPy (Numerical Python) is a Python library for scientific computing for n-dimensional array computations. The library contains sophisicated functions for high-performance computing and easy integration to other programming languages such as C/C++ and Fortran. If you have the Anaconda package installed in  your computer, then you should have NumPy already. The convention for importing NumPy goes as follows:\n",
    "\n",
    "```python\n",
    "import numpy as np\n",
    "```\n",
    "\n",
    "A good cheat sheet for NumPy basics can be found [HERE!](https://s3.amazonaws.com/assets.datacamp.com/blog_assets/Numpy_Python_Cheat_Sheet.pdf). NumPy reference documentation can be found [HERE!](https://docs.scipy.org/doc/numpy-1.13.0/reference/). The following sections introduce the NumPy functions you must know.\n",
    "\n",
    "## Creating NumPy Arrays\n",
    "\n",
    "With NumPy, you can create n-dimensional arrays called Numpy arrays. We can initialize Numpy arrays using the array() function and passing lists or tuples as arguments (I personally prefer to use list notation): \n"
   ]
  },
  {
   "cell_type": "code",
   "execution_count": null,
   "metadata": {
    "scrolled": true
   },
   "outputs": [],
   "source": [
    "import numpy as np\n",
    "a = np.array([1,2,3])   # 1d-array\n",
    "\n",
    "b = np.array([[1,2,3],  # 2d-array\n",
    "              [4,5,6]])\n",
    "\n",
    "c = np.array([[[1,2,3],[4,5,6]], # 3d-array\n",
    "              [[7,8,9], [10,11,12]]])\n",
    "\n",
    "print(\"1d-array:\\n\", a, \"\\n\")\n",
    "print(\"2d-array:\\n\", b, \"\\n\")\n",
    "print(\"3d-array:\\n\", c, \"\\n\")"
   ]
  },
  {
   "cell_type": "markdown",
   "metadata": {},
   "source": [
    "## Creating Placeholder Arrays\n",
    "\n",
    "Sometimes you do not know what the contents of an n-dim array will be, but you will want to create a NumPy array that is able to hold those values in the future. Or maybe you will want to create an n-dim array that will be used for some computation, e.g. an identity matrix or a matrix full of ones. Here are some NumPy functions to create these.  "
   ]
  },
  {
   "cell_type": "code",
   "execution_count": null,
   "metadata": {},
   "outputs": [],
   "source": [
    "## To create an array of zeros\n",
    "zeros = np.zeros((3,3,3))       # args: dimensions\n",
    "print(\"Shape:\", zeros.shape)\n",
    "print(zeros)"
   ]
  },
  {
   "cell_type": "code",
   "execution_count": null,
   "metadata": {},
   "outputs": [],
   "source": [
    "# To create an array of ones\n",
    "ones = np.ones((3,2))          # args: dimensions\n",
    "print(\"Shape:\", ones.shape)\n",
    "print(ones)"
   ]
  },
  {
   "cell_type": "code",
   "execution_count": null,
   "metadata": {},
   "outputs": [],
   "source": [
    "# create an array of evenly-spaced values (step value!)\n",
    "by_steps = np.arange(10,100,5) # args: start, end, steps\n",
    "print(\"Shape:\", by_steps.shape)\n",
    "print(by_steps)"
   ]
  },
  {
   "cell_type": "code",
   "execution_count": null,
   "metadata": {},
   "outputs": [],
   "source": [
    "# create array of evenly-spaced values (number of samples!)\n",
    "by_samples = np.linspace(0,10,100) # args: start, end, number of samples\n",
    "print(\"Shape:\", by_samples.shape)\n",
    "print(by_samples)"
   ]
  },
  {
   "cell_type": "code",
   "execution_count": null,
   "metadata": {},
   "outputs": [],
   "source": [
    "# create an array of filled with the same constant (constant array)\n",
    "c_arr = np.full((2,3), 7) # args: dimensions, constant\n",
    "print(\"Shape:\", c_arr.shape)\n",
    "print(c_arr)"
   ]
  },
  {
   "cell_type": "code",
   "execution_count": null,
   "metadata": {},
   "outputs": [],
   "source": [
    "# creating an identity matrix\n",
    "i = np.eye(3,3)\n",
    "print(\"Shpae:\", i.shape)\n",
    "print(i)"
   ]
  },
  {
   "cell_type": "code",
   "execution_count": null,
   "metadata": {},
   "outputs": [],
   "source": [
    "# create an array of random decimal values from interval [0.0,1.0)\n",
    "rnd = np.random.random((3,3)) # args: shape\n",
    "print(\"Shape:\", rnd.shape)\n",
    "print(rnd)"
   ]
  },
  {
   "cell_type": "markdown",
   "metadata": {},
   "source": [
    "Other important NumPy functions available for sampling random data, random permutations, and random distributions can be seen here: [Random sampling (numpy.random)](https://docs.scipy.org/doc/numpy-1.15.1/reference/routines.random.html)\n"
   ]
  },
  {
   "cell_type": "markdown",
   "metadata": {},
   "source": [
    "## Inspecting NumPy Arrays\n",
    "\n",
    "The next important thing you want to be able to do when working with NumPy arrays is to be able to inspect them. Primarily, we are interested in certain properties of n-dim arrays: \n",
    "\n",
    "* shape \n",
    "* length\n",
    "* dimensions\n",
    "* number of elements\n",
    "* data type of elements\n"
   ]
  },
  {
   "cell_type": "code",
   "execution_count": null,
   "metadata": {},
   "outputs": [],
   "source": [
    "# create an array\n",
    "arr = np.array([[[1,2],[3,4],[5,6]],[[7,8],[9,10],[11,12]]])\n",
    "print(\"Array:\\n\", arr)\n",
    "print(\"\\nShape:\", arr.shape)                            # shape\n",
    "print(\"Length:\", len(arr))                              # length\n",
    "print(\"Dimensions:\", arr.ndim)                          # dimension\n",
    "print(\"Size:\", arr.size)                                # size\n",
    "print(\"Data type of array elems:\", arr.dtype)           # data type\n",
    "# Convert from int64 to int32\n",
    "arr = arr.astype(np.int32)                              # data type conversion\n",
    "print(\"New data type of array elems:\", arr.dtype)\n"
   ]
  },
  {
   "cell_type": "markdown",
   "metadata": {},
   "source": [
    "## Mathematics: working with NumPy Arrays\n",
    "\n",
    "We now get into the computational aspect of working with n-dimensional arrays. NumPy offers many easy to use functions for arithmetic and comparison operations. \n",
    "\n",
    "### Arithmatic Operations\n",
    "Let us initialize some NumPy arrays"
   ]
  },
  {
   "cell_type": "code",
   "execution_count": null,
   "metadata": {},
   "outputs": [],
   "source": [
    "a = np.array([[1,2,3],[4,5,6],[7,8,9]])\n",
    "b = np.array([[10,20,30],[40,50,60],[70,80,90]])"
   ]
  },
  {
   "cell_type": "markdown",
   "metadata": {},
   "source": [
    "We can do arithmetic operations with NumPy arrays the same way we would do it with integer or decimal scalars in standard Python syntax."
   ]
  },
  {
   "cell_type": "code",
   "execution_count": null,
   "metadata": {},
   "outputs": [],
   "source": [
    "# addition\n",
    "print(a + b, \"\\n\")"
   ]
  },
  {
   "cell_type": "code",
   "execution_count": null,
   "metadata": {},
   "outputs": [],
   "source": [
    "# subtraction\n",
    "print(b - a, \"\\n\")"
   ]
  },
  {
   "cell_type": "code",
   "execution_count": null,
   "metadata": {},
   "outputs": [],
   "source": [
    "# multiplication\n",
    "print(a * b, \"\\n\")"
   ]
  },
  {
   "cell_type": "code",
   "execution_count": null,
   "metadata": {},
   "outputs": [],
   "source": [
    "# division\n",
    "print(b / a, \"\\n\")"
   ]
  },
  {
   "cell_type": "code",
   "execution_count": null,
   "metadata": {},
   "outputs": [],
   "source": [
    "# exponents\n",
    "print(a**2, \"\\n\")"
   ]
  },
  {
   "cell_type": "markdown",
   "metadata": {},
   "source": [
    "NumPy also has functions for these operations:\n",
    "* np.add(a,b)\n",
    "* np.subtract(b,a)\n",
    "* np.multiply(a,b)\n",
    "* np.division(b,a)\n",
    "\n",
    "Computationally, these functions perform the same as the operators (+,-,*,/) but are able to receive extra arguments. You can check the documentation [HERE](https://docs.scipy.org/doc/numpy-1.13.0/reference/routines.math.html)\n",
    "\n",
    "Other mathematical functions of interest:"
   ]
  },
  {
   "cell_type": "code",
   "execution_count": null,
   "metadata": {},
   "outputs": [],
   "source": [
    "print(\"exp\\n\",np.exp(a), \"\\n\")           # element-wise exponentiation\n",
    "print(\"sqrt\\n\",np.sqrt(a), \"\\n\")         # element-wise square root\n",
    "print(\"sine\\n\",np.sin(a), \"\\n\")          # element-wise sine (np.arcsin(), np.cos(), np.tan(), etc)\n",
    "print(\"natlog\\n\",np.log(a), \"\\n\")        # element-wise natural log"
   ]
  },
  {
   "cell_type": "code",
   "execution_count": null,
   "metadata": {},
   "outputs": [],
   "source": [
    "# some linear algebra functions: inverse, dot, and cross product\n",
    "\n",
    "A = np.array([[4,7],[2,6]])         # 2 by 2 matrix\n",
    "A_inv = np.linalg.inv(A)            # inverse matrix (system must be linearly independent)\n",
    "print(\"Inverse of A: \\n \", A_inv, \"\\n\")\n",
    "\n",
    "I = np.dot(A, A_inv)                # dot product. Rule for dot product: (n x m) * (m x n)\n",
    "print(I)\n"
   ]
  },
  {
   "cell_type": "code",
   "execution_count": null,
   "metadata": {},
   "outputs": [],
   "source": [
    "# for dot product of 2D or nD arrays, np.matmul() is typically preferred\n",
    "print(np.matmul(A, A_inv))"
   ]
  },
  {
   "cell_type": "code",
   "execution_count": null,
   "metadata": {},
   "outputs": [],
   "source": [
    "# cross product example\n",
    "x = [1,2,3]\n",
    "y = [4,5,6]\n",
    "print(np.cross(x,y))"
   ]
  },
  {
   "cell_type": "markdown",
   "metadata": {},
   "source": [
    "### Comparisons Operations\n",
    "\n",
    "Like in standard python, we can use the comparison operators (<,<=,<>,=>,>,==,!=) to do element-wise comparison between the elements of two n-dimensional arrays of the same dimensions. "
   ]
  },
  {
   "cell_type": "code",
   "execution_count": null,
   "metadata": {},
   "outputs": [],
   "source": [
    "# create arrays\n",
    "a = np.array([[1,2,3],[4,5,6],[7,8,9]])\n",
    "b = np.array([[9,8,7],[6,5,4],[3,2,1]])\n",
    "\n",
    "print(\"a:\\n\", a)\n",
    "print(\"b:\\n\", b)"
   ]
  },
  {
   "cell_type": "code",
   "execution_count": null,
   "metadata": {},
   "outputs": [],
   "source": [
    "# element-wise comparison\n",
    "print(\"a == b: \\n\", a==b, \"\\n\")\n",
    "print(\"a == a.T: \\n\", a==a.T, \"\\n\")  # a.T is the transpose of a \n",
    "print(\"a < b: \\n\", a < b, \"\\n\")"
   ]
  },
  {
   "cell_type": "code",
   "execution_count": null,
   "metadata": {},
   "outputs": [],
   "source": [
    "# array-wise comparison\n",
    "print(\"Are 'a' and 'b' equal? -> \", np.array_equal(a, b))\n",
    "print(\"Are 'a' and 'a' equal? -> \", np.array_equal(a, a))"
   ]
  },
  {
   "cell_type": "markdown",
   "metadata": {},
   "source": [
    "### Aggregate Functions\n",
    "\n",
    "An aggregate function is a function where the values of multiple rows or columns are grouped together to form a single \"summary\" value. It is very useful to use these kind of functions to explore datasets. Here are some common aggregate functions and there corresponding NumPy functions:\n",
    "\n",
    "* sum -> np.sum()\n",
    "* mean -> np.mean()\n",
    "* standard deviation -> np.std()\n",
    "* count -> np.count_nonzero()\n",
    "* maximum -> np.max()\n",
    "* minimum -> np.min()\n"
   ]
  },
  {
   "cell_type": "code",
   "execution_count": null,
   "metadata": {},
   "outputs": [],
   "source": [
    "# initialize a 2D array of integers\n",
    "data = np.array([[1,2,3],[4, 5, 6],[7, 8, 9]])\n",
    "print(data)\n",
    "# sum of all values in array\n",
    "print(\"\\nSum of all: \\n\", np.sum(data))"
   ]
  },
  {
   "cell_type": "markdown",
   "metadata": {},
   "source": [
    "Notice that by passing only the array as an argument the function outputs the result from iterating through all the elements in the array. However, you can also describe the dimension by which you want the aggregated function to operate (e.g. return the sum of each columns or of each rows). \n",
    "\n",
    "To allow this, each function can receive an \"axis\" argument that indicates which dimension you want the results to be grouped by. This axis value is an integer starting from zero to the number of dimensions of the array. \n",
    "\n",
    "In NumPy, the axis numbering is as follows for up to three dimensions:\n",
    "\n",
    "![image.png](img/numpy_axis_def.png)"
   ]
  },
  {
   "cell_type": "code",
   "execution_count": null,
   "metadata": {},
   "outputs": [],
   "source": [
    "# sum by columns\n",
    "print(\"sum by col: \\n\", np.sum(data, axis=0))\n",
    "# sum by rowa\n",
    "print(\"sum by row: \\n\", np.sum(data, axis=1))"
   ]
  },
  {
   "cell_type": "markdown",
   "metadata": {},
   "source": [
    "The same \"axis\" argument can be passed to the other aggregate functions listed above"
   ]
  },
  {
   "cell_type": "markdown",
   "metadata": {},
   "source": [
    "## Subsetting, Slicing, and Indexing\n",
    "\n",
    "### Subsetting"
   ]
  },
  {
   "cell_type": "code",
   "execution_count": null,
   "metadata": {},
   "outputs": [],
   "source": [
    "# NOTE: Remember that indexing begins at zero and ends at n-1\n",
    "# 1D arrays\n",
    "a = np.array([1,2,3])\n",
    "print(a[0])\n",
    "print(a[1])\n",
    "print(a[2])"
   ]
  },
  {
   "cell_type": "code",
   "execution_count": null,
   "metadata": {},
   "outputs": [],
   "source": [
    "# 2D arrays\n",
    "b = np.array([[1,2,3],[4,5,6]])\n",
    "print(b)\n",
    "print(b[1,1])\n",
    "print(b[1,2])"
   ]
  },
  {
   "cell_type": "markdown",
   "metadata": {},
   "source": [
    "### Slicing\n",
    "Slicing refers to subsetting more than one element from an n-dim array. Slicing NumPy arrays is the same as slicing standard lists objects. It can be a little confusing, though, since we deal with indexes that start at zero and half-closed intervals of the form `[start, finish)`. For example, if we state that we want the elements in a dimension with interval `[0:3]`, we are saying we want the elements in that interval from position `0` to `2` (3 minus 1). "
   ]
  },
  {
   "cell_type": "code",
   "execution_count": null,
   "metadata": {},
   "outputs": [],
   "source": [
    "# 1D array\n",
    "print(a)\n",
    "print(a[0:2])"
   ]
  },
  {
   "cell_type": "code",
   "execution_count": null,
   "metadata": {},
   "outputs": [],
   "source": [
    "# 2D array\n",
    "print(b, \"\\n\")\n",
    "print(b[0:2,1:3], \"\\n\")\n",
    "print(b[:1])"
   ]
  },
  {
   "cell_type": "markdown",
   "metadata": {},
   "source": [
    "### Boolean Indexing\n",
    "\n",
    "You can also index all the elements from an array that satisfy a conditional statement"
   ]
  },
  {
   "cell_type": "code",
   "execution_count": null,
   "metadata": {},
   "outputs": [],
   "source": [
    "# boolean indexing\n",
    "print(a[a<=3])"
   ]
  },
  {
   "cell_type": "markdown",
   "metadata": {},
   "source": [
    "## DON'T FORGET TO CHECK OUT THIS [NUMPY CHEAT SHEET](https://s3.amazonaws.com/assets.datacamp.com/blog_assets/Numpy_Python_Cheat_Sheet.pdf) (there is more content on array manipulation there)."
   ]
  }
 ],
 "metadata": {
  "kernelspec": {
   "display_name": "Python 3",
   "language": "python",
   "name": "python3"
  },
  "language_info": {
   "codemirror_mode": {
    "name": "ipython",
    "version": 3
   },
   "file_extension": ".py",
   "mimetype": "text/x-python",
   "name": "python",
   "nbconvert_exporter": "python",
   "pygments_lexer": "ipython3",
   "version": "3.6.5"
  }
 },
 "nbformat": 4,
 "nbformat_minor": 2
}
